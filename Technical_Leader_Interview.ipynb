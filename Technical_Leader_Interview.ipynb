{
  "nbformat": 4,
  "nbformat_minor": 0,
  "metadata": {
    "colab": {
      "name": "Technical_Leader_Interview.ipynb",
      "provenance": [],
      "collapsed_sections": [
        "ohVshtj7Q_gP",
        "i6IkWuENRiYv",
        "sUkNwt33j2S2",
        "FeB4dlJjE7qG",
        "qosgapbY6Ayl",
        "y0AMMXiTypQn"
      ],
      "authorship_tag": "ABX9TyNxY/1R+YisBfQkbA1CQXeM",
      "include_colab_link": true
    },
    "kernelspec": {
      "name": "python3",
      "display_name": "Python 3"
    },
    "language_info": {
      "name": "python"
    }
  },
  "cells": [
    {
      "cell_type": "markdown",
      "metadata": {
        "id": "view-in-github",
        "colab_type": "text"
      },
      "source": [
        "<a href=\"https://colab.research.google.com/github/GerardoMayel/Technical_Leader_Interview/blob/main/Technical_Leader_Interview.ipynb\" target=\"_parent\"><img src=\"https://colab.research.google.com/assets/colab-badge.svg\" alt=\"Open In Colab\"/></a>"
      ]
    },
    {
      "cell_type": "markdown",
      "metadata": {
        "id": "dvddmtztQau6"
      },
      "source": [
        "<H1>Technical_Leader_Interview<H1>"
      ]
    },
    {
      "cell_type": "markdown",
      "metadata": {
        "id": "ohVshtj7Q_gP"
      },
      "source": [
        "# Libraries & Frameworks:"
      ]
    },
    {
      "cell_type": "code",
      "metadata": {
        "colab": {
          "base_uri": "https://localhost:8080/",
          "height": 35
        },
        "id": "AeYRI-JiS4IQ",
        "outputId": "db406442-8c47-4b31-9d8c-31b3b4a9e25b"
      },
      "source": [
        "#Data Manipulation\n",
        "import pandas as pd\n",
        "pd.__version__"
      ],
      "execution_count": 1,
      "outputs": [
        {
          "output_type": "execute_result",
          "data": {
            "application/vnd.google.colaboratory.intrinsic+json": {
              "type": "string"
            },
            "text/plain": [
              "'1.1.5'"
            ]
          },
          "metadata": {
            "tags": []
          },
          "execution_count": 1
        }
      ]
    },
    {
      "cell_type": "code",
      "metadata": {
        "colab": {
          "base_uri": "https://localhost:8080/"
        },
        "id": "dQAmXzRmuLmX",
        "outputId": "a52396a2-4355-44f7-d931-f7b541d6c2db"
      },
      "source": [
        "#Library for Machine Learning and Statistical Modeling\n",
        "!pip install -U scikit-learn"
      ],
      "execution_count": 2,
      "outputs": [
        {
          "output_type": "stream",
          "text": [
            "Collecting scikit-learn\n",
            "\u001b[?25l  Downloading https://files.pythonhosted.org/packages/a8/eb/a48f25c967526b66d5f1fa7a984594f0bf0a5afafa94a8c4dbc317744620/scikit_learn-0.24.2-cp37-cp37m-manylinux2010_x86_64.whl (22.3MB)\n",
            "\u001b[K     |████████████████████████████████| 22.3MB 1.4MB/s \n",
            "\u001b[?25hRequirement already satisfied, skipping upgrade: scipy>=0.19.1 in /usr/local/lib/python3.7/dist-packages (from scikit-learn) (1.4.1)\n",
            "Collecting threadpoolctl>=2.0.0\n",
            "  Downloading https://files.pythonhosted.org/packages/f7/12/ec3f2e203afa394a149911729357aa48affc59c20e2c1c8297a60f33f133/threadpoolctl-2.1.0-py3-none-any.whl\n",
            "Requirement already satisfied, skipping upgrade: joblib>=0.11 in /usr/local/lib/python3.7/dist-packages (from scikit-learn) (1.0.1)\n",
            "Requirement already satisfied, skipping upgrade: numpy>=1.13.3 in /usr/local/lib/python3.7/dist-packages (from scikit-learn) (1.19.5)\n",
            "Installing collected packages: threadpoolctl, scikit-learn\n",
            "  Found existing installation: scikit-learn 0.22.2.post1\n",
            "    Uninstalling scikit-learn-0.22.2.post1:\n",
            "      Successfully uninstalled scikit-learn-0.22.2.post1\n",
            "Successfully installed scikit-learn-0.24.2 threadpoolctl-2.1.0\n"
          ],
          "name": "stdout"
        }
      ]
    },
    {
      "cell_type": "code",
      "metadata": {
        "id": "kniM24htRamE"
      },
      "source": [
        "import numpy as np"
      ],
      "execution_count": 3,
      "outputs": []
    },
    {
      "cell_type": "code",
      "metadata": {
        "colab": {
          "base_uri": "https://localhost:8080/",
          "height": 35
        },
        "id": "CNoudoOuvVHh",
        "outputId": "8e7cf10a-f95b-46a9-8d8f-ad783dfe2448"
      },
      "source": [
        "import sklearn\n",
        "sklearn.__version__"
      ],
      "execution_count": 4,
      "outputs": [
        {
          "output_type": "execute_result",
          "data": {
            "application/vnd.google.colaboratory.intrinsic+json": {
              "type": "string"
            },
            "text/plain": [
              "'0.24.2'"
            ]
          },
          "metadata": {
            "tags": []
          },
          "execution_count": 4
        }
      ]
    },
    {
      "cell_type": "code",
      "metadata": {
        "id": "DkUJiidRoYPT"
      },
      "source": [
        "#Models\n",
        "from sklearn.neighbors import KNeighborsClassifier\n",
        "from sklearn.ensemble import BaggingClassifier\n",
        "from sklearn.ensemble import GradientBoostingClassifier\n",
        "from sklearn.model_selection import train_test_split"
      ],
      "execution_count": 51,
      "outputs": []
    },
    {
      "cell_type": "code",
      "metadata": {
        "id": "GqnL9zLsomTn"
      },
      "source": [
        "#metrics\n",
        "from sklearn.metrics import accuracy_score\n",
        "from sklearn.metrics import precision_score\n",
        "from sklearn.metrics import average_precision_score\n",
        "from sklearn.metrics import recall_score\n",
        "from sklearn.metrics import roc_auc_score\n",
        "from sklearn.metrics import roc_curve\n",
        "from sklearn.metrics import classification_report\n",
        "from sklearn.metrics import confusion_matrix"
      ],
      "execution_count": 62,
      "outputs": []
    },
    {
      "cell_type": "code",
      "metadata": {
        "id": "CWKSliRGpgwz"
      },
      "source": [
        "#Data Visualization\n",
        "import matplotlib.pyplot as plt\n",
        "from matplotlib.pyplot import figure\n",
        "import seaborn as sns\n",
        "from sklearn.preprocessing import OrdinalEncoder"
      ],
      "execution_count": 7,
      "outputs": []
    },
    {
      "cell_type": "markdown",
      "metadata": {
        "id": "i6IkWuENRiYv"
      },
      "source": [
        "# Data:"
      ]
    },
    {
      "cell_type": "code",
      "metadata": {
        "colab": {
          "base_uri": "https://localhost:8080/"
        },
        "id": "iA5_iqmCSDgM",
        "outputId": "414d2549-f15f-42a7-cc02-6ad5450fe76d"
      },
      "source": [
        "from google.colab import drive\n",
        "drive.mount('/content/drive')"
      ],
      "execution_count": 8,
      "outputs": [
        {
          "output_type": "stream",
          "text": [
            "Mounted at /content/drive\n"
          ],
          "name": "stdout"
        }
      ]
    },
    {
      "cell_type": "code",
      "metadata": {
        "colab": {
          "base_uri": "https://localhost:8080/"
        },
        "id": "FxTQetwZSQ7X",
        "outputId": "d938988a-c7ad-4102-c168-8e4fc79f736f"
      },
      "source": [
        "%cd '/content/drive/My Drive/Manager_Gentera/data'"
      ],
      "execution_count": 9,
      "outputs": [
        {
          "output_type": "stream",
          "text": [
            "/content/drive/My Drive/Manager_Gentera/data\n"
          ],
          "name": "stdout"
        }
      ]
    },
    {
      "cell_type": "code",
      "metadata": {
        "colab": {
          "base_uri": "https://localhost:8080/"
        },
        "id": "yANGBwooSPhs",
        "outputId": "25411608-c61e-4853-ee20-9eaba3a9ae6a"
      },
      "source": [
        "!ls"
      ],
      "execution_count": 10,
      "outputs": [
        {
          "output_type": "stream",
          "text": [
            "audi.csv  ford.csv     merc.csv       skoda.csv   vauxhall.csv\n",
            "bmw.csv   hyundai.csv  mushrooms.csv  toyota.csv  vw.csv\n"
          ],
          "name": "stdout"
        }
      ]
    },
    {
      "cell_type": "code",
      "metadata": {
        "colab": {
          "base_uri": "https://localhost:8080/",
          "height": 494
        },
        "id": "vgJmXJQcSfEs",
        "outputId": "8dde22e6-3cbf-4d2c-e5a4-28de9e08cc98"
      },
      "source": [
        "df_mushrooms = pd.read_csv('mushrooms.csv')\n",
        "df_mushrooms"
      ],
      "execution_count": 11,
      "outputs": [
        {
          "output_type": "execute_result",
          "data": {
            "text/html": [
              "<div>\n",
              "<style scoped>\n",
              "    .dataframe tbody tr th:only-of-type {\n",
              "        vertical-align: middle;\n",
              "    }\n",
              "\n",
              "    .dataframe tbody tr th {\n",
              "        vertical-align: top;\n",
              "    }\n",
              "\n",
              "    .dataframe thead th {\n",
              "        text-align: right;\n",
              "    }\n",
              "</style>\n",
              "<table border=\"1\" class=\"dataframe\">\n",
              "  <thead>\n",
              "    <tr style=\"text-align: right;\">\n",
              "      <th></th>\n",
              "      <th>class</th>\n",
              "      <th>cap-shape</th>\n",
              "      <th>cap-surface</th>\n",
              "      <th>cap-color</th>\n",
              "      <th>bruises</th>\n",
              "      <th>odor</th>\n",
              "      <th>gill-attachment</th>\n",
              "      <th>gill-spacing</th>\n",
              "      <th>gill-size</th>\n",
              "      <th>gill-color</th>\n",
              "      <th>stalk-shape</th>\n",
              "      <th>stalk-root</th>\n",
              "      <th>stalk-surface-above-ring</th>\n",
              "      <th>stalk-surface-below-ring</th>\n",
              "      <th>stalk-color-above-ring</th>\n",
              "      <th>stalk-color-below-ring</th>\n",
              "      <th>veil-type</th>\n",
              "      <th>veil-color</th>\n",
              "      <th>ring-number</th>\n",
              "      <th>ring-type</th>\n",
              "      <th>spore-print-color</th>\n",
              "      <th>population</th>\n",
              "      <th>habitat</th>\n",
              "    </tr>\n",
              "  </thead>\n",
              "  <tbody>\n",
              "    <tr>\n",
              "      <th>0</th>\n",
              "      <td>p</td>\n",
              "      <td>x</td>\n",
              "      <td>s</td>\n",
              "      <td>n</td>\n",
              "      <td>t</td>\n",
              "      <td>p</td>\n",
              "      <td>f</td>\n",
              "      <td>c</td>\n",
              "      <td>n</td>\n",
              "      <td>k</td>\n",
              "      <td>e</td>\n",
              "      <td>e</td>\n",
              "      <td>s</td>\n",
              "      <td>s</td>\n",
              "      <td>w</td>\n",
              "      <td>w</td>\n",
              "      <td>p</td>\n",
              "      <td>w</td>\n",
              "      <td>o</td>\n",
              "      <td>p</td>\n",
              "      <td>k</td>\n",
              "      <td>s</td>\n",
              "      <td>u</td>\n",
              "    </tr>\n",
              "    <tr>\n",
              "      <th>1</th>\n",
              "      <td>e</td>\n",
              "      <td>x</td>\n",
              "      <td>s</td>\n",
              "      <td>y</td>\n",
              "      <td>t</td>\n",
              "      <td>a</td>\n",
              "      <td>f</td>\n",
              "      <td>c</td>\n",
              "      <td>b</td>\n",
              "      <td>k</td>\n",
              "      <td>e</td>\n",
              "      <td>c</td>\n",
              "      <td>s</td>\n",
              "      <td>s</td>\n",
              "      <td>w</td>\n",
              "      <td>w</td>\n",
              "      <td>p</td>\n",
              "      <td>w</td>\n",
              "      <td>o</td>\n",
              "      <td>p</td>\n",
              "      <td>n</td>\n",
              "      <td>n</td>\n",
              "      <td>g</td>\n",
              "    </tr>\n",
              "    <tr>\n",
              "      <th>2</th>\n",
              "      <td>e</td>\n",
              "      <td>b</td>\n",
              "      <td>s</td>\n",
              "      <td>w</td>\n",
              "      <td>t</td>\n",
              "      <td>l</td>\n",
              "      <td>f</td>\n",
              "      <td>c</td>\n",
              "      <td>b</td>\n",
              "      <td>n</td>\n",
              "      <td>e</td>\n",
              "      <td>c</td>\n",
              "      <td>s</td>\n",
              "      <td>s</td>\n",
              "      <td>w</td>\n",
              "      <td>w</td>\n",
              "      <td>p</td>\n",
              "      <td>w</td>\n",
              "      <td>o</td>\n",
              "      <td>p</td>\n",
              "      <td>n</td>\n",
              "      <td>n</td>\n",
              "      <td>m</td>\n",
              "    </tr>\n",
              "    <tr>\n",
              "      <th>3</th>\n",
              "      <td>p</td>\n",
              "      <td>x</td>\n",
              "      <td>y</td>\n",
              "      <td>w</td>\n",
              "      <td>t</td>\n",
              "      <td>p</td>\n",
              "      <td>f</td>\n",
              "      <td>c</td>\n",
              "      <td>n</td>\n",
              "      <td>n</td>\n",
              "      <td>e</td>\n",
              "      <td>e</td>\n",
              "      <td>s</td>\n",
              "      <td>s</td>\n",
              "      <td>w</td>\n",
              "      <td>w</td>\n",
              "      <td>p</td>\n",
              "      <td>w</td>\n",
              "      <td>o</td>\n",
              "      <td>p</td>\n",
              "      <td>k</td>\n",
              "      <td>s</td>\n",
              "      <td>u</td>\n",
              "    </tr>\n",
              "    <tr>\n",
              "      <th>4</th>\n",
              "      <td>e</td>\n",
              "      <td>x</td>\n",
              "      <td>s</td>\n",
              "      <td>g</td>\n",
              "      <td>f</td>\n",
              "      <td>n</td>\n",
              "      <td>f</td>\n",
              "      <td>w</td>\n",
              "      <td>b</td>\n",
              "      <td>k</td>\n",
              "      <td>t</td>\n",
              "      <td>e</td>\n",
              "      <td>s</td>\n",
              "      <td>s</td>\n",
              "      <td>w</td>\n",
              "      <td>w</td>\n",
              "      <td>p</td>\n",
              "      <td>w</td>\n",
              "      <td>o</td>\n",
              "      <td>e</td>\n",
              "      <td>n</td>\n",
              "      <td>a</td>\n",
              "      <td>g</td>\n",
              "    </tr>\n",
              "    <tr>\n",
              "      <th>...</th>\n",
              "      <td>...</td>\n",
              "      <td>...</td>\n",
              "      <td>...</td>\n",
              "      <td>...</td>\n",
              "      <td>...</td>\n",
              "      <td>...</td>\n",
              "      <td>...</td>\n",
              "      <td>...</td>\n",
              "      <td>...</td>\n",
              "      <td>...</td>\n",
              "      <td>...</td>\n",
              "      <td>...</td>\n",
              "      <td>...</td>\n",
              "      <td>...</td>\n",
              "      <td>...</td>\n",
              "      <td>...</td>\n",
              "      <td>...</td>\n",
              "      <td>...</td>\n",
              "      <td>...</td>\n",
              "      <td>...</td>\n",
              "      <td>...</td>\n",
              "      <td>...</td>\n",
              "      <td>...</td>\n",
              "    </tr>\n",
              "    <tr>\n",
              "      <th>8119</th>\n",
              "      <td>e</td>\n",
              "      <td>k</td>\n",
              "      <td>s</td>\n",
              "      <td>n</td>\n",
              "      <td>f</td>\n",
              "      <td>n</td>\n",
              "      <td>a</td>\n",
              "      <td>c</td>\n",
              "      <td>b</td>\n",
              "      <td>y</td>\n",
              "      <td>e</td>\n",
              "      <td>?</td>\n",
              "      <td>s</td>\n",
              "      <td>s</td>\n",
              "      <td>o</td>\n",
              "      <td>o</td>\n",
              "      <td>p</td>\n",
              "      <td>o</td>\n",
              "      <td>o</td>\n",
              "      <td>p</td>\n",
              "      <td>b</td>\n",
              "      <td>c</td>\n",
              "      <td>l</td>\n",
              "    </tr>\n",
              "    <tr>\n",
              "      <th>8120</th>\n",
              "      <td>e</td>\n",
              "      <td>x</td>\n",
              "      <td>s</td>\n",
              "      <td>n</td>\n",
              "      <td>f</td>\n",
              "      <td>n</td>\n",
              "      <td>a</td>\n",
              "      <td>c</td>\n",
              "      <td>b</td>\n",
              "      <td>y</td>\n",
              "      <td>e</td>\n",
              "      <td>?</td>\n",
              "      <td>s</td>\n",
              "      <td>s</td>\n",
              "      <td>o</td>\n",
              "      <td>o</td>\n",
              "      <td>p</td>\n",
              "      <td>n</td>\n",
              "      <td>o</td>\n",
              "      <td>p</td>\n",
              "      <td>b</td>\n",
              "      <td>v</td>\n",
              "      <td>l</td>\n",
              "    </tr>\n",
              "    <tr>\n",
              "      <th>8121</th>\n",
              "      <td>e</td>\n",
              "      <td>f</td>\n",
              "      <td>s</td>\n",
              "      <td>n</td>\n",
              "      <td>f</td>\n",
              "      <td>n</td>\n",
              "      <td>a</td>\n",
              "      <td>c</td>\n",
              "      <td>b</td>\n",
              "      <td>n</td>\n",
              "      <td>e</td>\n",
              "      <td>?</td>\n",
              "      <td>s</td>\n",
              "      <td>s</td>\n",
              "      <td>o</td>\n",
              "      <td>o</td>\n",
              "      <td>p</td>\n",
              "      <td>o</td>\n",
              "      <td>o</td>\n",
              "      <td>p</td>\n",
              "      <td>b</td>\n",
              "      <td>c</td>\n",
              "      <td>l</td>\n",
              "    </tr>\n",
              "    <tr>\n",
              "      <th>8122</th>\n",
              "      <td>p</td>\n",
              "      <td>k</td>\n",
              "      <td>y</td>\n",
              "      <td>n</td>\n",
              "      <td>f</td>\n",
              "      <td>y</td>\n",
              "      <td>f</td>\n",
              "      <td>c</td>\n",
              "      <td>n</td>\n",
              "      <td>b</td>\n",
              "      <td>t</td>\n",
              "      <td>?</td>\n",
              "      <td>s</td>\n",
              "      <td>k</td>\n",
              "      <td>w</td>\n",
              "      <td>w</td>\n",
              "      <td>p</td>\n",
              "      <td>w</td>\n",
              "      <td>o</td>\n",
              "      <td>e</td>\n",
              "      <td>w</td>\n",
              "      <td>v</td>\n",
              "      <td>l</td>\n",
              "    </tr>\n",
              "    <tr>\n",
              "      <th>8123</th>\n",
              "      <td>e</td>\n",
              "      <td>x</td>\n",
              "      <td>s</td>\n",
              "      <td>n</td>\n",
              "      <td>f</td>\n",
              "      <td>n</td>\n",
              "      <td>a</td>\n",
              "      <td>c</td>\n",
              "      <td>b</td>\n",
              "      <td>y</td>\n",
              "      <td>e</td>\n",
              "      <td>?</td>\n",
              "      <td>s</td>\n",
              "      <td>s</td>\n",
              "      <td>o</td>\n",
              "      <td>o</td>\n",
              "      <td>p</td>\n",
              "      <td>o</td>\n",
              "      <td>o</td>\n",
              "      <td>p</td>\n",
              "      <td>o</td>\n",
              "      <td>c</td>\n",
              "      <td>l</td>\n",
              "    </tr>\n",
              "  </tbody>\n",
              "</table>\n",
              "<p>8124 rows × 23 columns</p>\n",
              "</div>"
            ],
            "text/plain": [
              "     class cap-shape cap-surface  ... spore-print-color population habitat\n",
              "0        p         x           s  ...                 k          s       u\n",
              "1        e         x           s  ...                 n          n       g\n",
              "2        e         b           s  ...                 n          n       m\n",
              "3        p         x           y  ...                 k          s       u\n",
              "4        e         x           s  ...                 n          a       g\n",
              "...    ...       ...         ...  ...               ...        ...     ...\n",
              "8119     e         k           s  ...                 b          c       l\n",
              "8120     e         x           s  ...                 b          v       l\n",
              "8121     e         f           s  ...                 b          c       l\n",
              "8122     p         k           y  ...                 w          v       l\n",
              "8123     e         x           s  ...                 o          c       l\n",
              "\n",
              "[8124 rows x 23 columns]"
            ]
          },
          "metadata": {
            "tags": []
          },
          "execution_count": 11
        }
      ]
    },
    {
      "cell_type": "markdown",
      "metadata": {
        "id": "sUkNwt33j2S2"
      },
      "source": [
        "# Exploratory Data Analysis:"
      ]
    },
    {
      "cell_type": "code",
      "metadata": {
        "colab": {
          "base_uri": "https://localhost:8080/"
        },
        "id": "QCkOYzfhwFxi",
        "outputId": "fd046e73-afa5-4146-c5a2-8ea6f18124d8"
      },
      "source": [
        "df_mushrooms.info()"
      ],
      "execution_count": 12,
      "outputs": [
        {
          "output_type": "stream",
          "text": [
            "<class 'pandas.core.frame.DataFrame'>\n",
            "RangeIndex: 8124 entries, 0 to 8123\n",
            "Data columns (total 23 columns):\n",
            " #   Column                    Non-Null Count  Dtype \n",
            "---  ------                    --------------  ----- \n",
            " 0   class                     8124 non-null   object\n",
            " 1   cap-shape                 8124 non-null   object\n",
            " 2   cap-surface               8124 non-null   object\n",
            " 3   cap-color                 8124 non-null   object\n",
            " 4   bruises                   8124 non-null   object\n",
            " 5   odor                      8124 non-null   object\n",
            " 6   gill-attachment           8124 non-null   object\n",
            " 7   gill-spacing              8124 non-null   object\n",
            " 8   gill-size                 8124 non-null   object\n",
            " 9   gill-color                8124 non-null   object\n",
            " 10  stalk-shape               8124 non-null   object\n",
            " 11  stalk-root                8124 non-null   object\n",
            " 12  stalk-surface-above-ring  8124 non-null   object\n",
            " 13  stalk-surface-below-ring  8124 non-null   object\n",
            " 14  stalk-color-above-ring    8124 non-null   object\n",
            " 15  stalk-color-below-ring    8124 non-null   object\n",
            " 16  veil-type                 8124 non-null   object\n",
            " 17  veil-color                8124 non-null   object\n",
            " 18  ring-number               8124 non-null   object\n",
            " 19  ring-type                 8124 non-null   object\n",
            " 20  spore-print-color         8124 non-null   object\n",
            " 21  population                8124 non-null   object\n",
            " 22  habitat                   8124 non-null   object\n",
            "dtypes: object(23)\n",
            "memory usage: 1.4+ MB\n"
          ],
          "name": "stdout"
        }
      ]
    },
    {
      "cell_type": "code",
      "metadata": {
        "colab": {
          "base_uri": "https://localhost:8080/"
        },
        "id": "QEzRumWgyTK1",
        "outputId": "3b0546f3-0a8d-4a71-ba97-155ab4dd8af2"
      },
      "source": [
        "df_mushrooms.isnull().sum()"
      ],
      "execution_count": 13,
      "outputs": [
        {
          "output_type": "execute_result",
          "data": {
            "text/plain": [
              "class                       0\n",
              "cap-shape                   0\n",
              "cap-surface                 0\n",
              "cap-color                   0\n",
              "bruises                     0\n",
              "odor                        0\n",
              "gill-attachment             0\n",
              "gill-spacing                0\n",
              "gill-size                   0\n",
              "gill-color                  0\n",
              "stalk-shape                 0\n",
              "stalk-root                  0\n",
              "stalk-surface-above-ring    0\n",
              "stalk-surface-below-ring    0\n",
              "stalk-color-above-ring      0\n",
              "stalk-color-below-ring      0\n",
              "veil-type                   0\n",
              "veil-color                  0\n",
              "ring-number                 0\n",
              "ring-type                   0\n",
              "spore-print-color           0\n",
              "population                  0\n",
              "habitat                     0\n",
              "dtype: int64"
            ]
          },
          "metadata": {
            "tags": []
          },
          "execution_count": 13
        }
      ]
    },
    {
      "cell_type": "code",
      "metadata": {
        "colab": {
          "base_uri": "https://localhost:8080/"
        },
        "id": "vf8J79a_wPF8",
        "outputId": "9d13b689-fef3-434e-d2d7-1f3004dd20c8"
      },
      "source": [
        " tol_label = 0\n",
        "for col in df_mushrooms.columns:\n",
        "    print(col)\n",
        "    print(df_mushrooms[col].unique())\n",
        "    tol_label += len(df_mushrooms[col].unique())\n",
        "    print()"
      ],
      "execution_count": 14,
      "outputs": [
        {
          "output_type": "stream",
          "text": [
            "class\n",
            "['p' 'e']\n",
            "\n",
            "cap-shape\n",
            "['x' 'b' 's' 'f' 'k' 'c']\n",
            "\n",
            "cap-surface\n",
            "['s' 'y' 'f' 'g']\n",
            "\n",
            "cap-color\n",
            "['n' 'y' 'w' 'g' 'e' 'p' 'b' 'u' 'c' 'r']\n",
            "\n",
            "bruises\n",
            "['t' 'f']\n",
            "\n",
            "odor\n",
            "['p' 'a' 'l' 'n' 'f' 'c' 'y' 's' 'm']\n",
            "\n",
            "gill-attachment\n",
            "['f' 'a']\n",
            "\n",
            "gill-spacing\n",
            "['c' 'w']\n",
            "\n",
            "gill-size\n",
            "['n' 'b']\n",
            "\n",
            "gill-color\n",
            "['k' 'n' 'g' 'p' 'w' 'h' 'u' 'e' 'b' 'r' 'y' 'o']\n",
            "\n",
            "stalk-shape\n",
            "['e' 't']\n",
            "\n",
            "stalk-root\n",
            "['e' 'c' 'b' 'r' '?']\n",
            "\n",
            "stalk-surface-above-ring\n",
            "['s' 'f' 'k' 'y']\n",
            "\n",
            "stalk-surface-below-ring\n",
            "['s' 'f' 'y' 'k']\n",
            "\n",
            "stalk-color-above-ring\n",
            "['w' 'g' 'p' 'n' 'b' 'e' 'o' 'c' 'y']\n",
            "\n",
            "stalk-color-below-ring\n",
            "['w' 'p' 'g' 'b' 'n' 'e' 'y' 'o' 'c']\n",
            "\n",
            "veil-type\n",
            "['p']\n",
            "\n",
            "veil-color\n",
            "['w' 'n' 'o' 'y']\n",
            "\n",
            "ring-number\n",
            "['o' 't' 'n']\n",
            "\n",
            "ring-type\n",
            "['p' 'e' 'l' 'f' 'n']\n",
            "\n",
            "spore-print-color\n",
            "['k' 'n' 'u' 'h' 'w' 'r' 'o' 'y' 'b']\n",
            "\n",
            "population\n",
            "['s' 'n' 'a' 'v' 'y' 'c']\n",
            "\n",
            "habitat\n",
            "['u' 'g' 'm' 'd' 'p' 'w' 'l']\n",
            "\n"
          ],
          "name": "stdout"
        }
      ]
    },
    {
      "cell_type": "code",
      "metadata": {
        "colab": {
          "base_uri": "https://localhost:8080/",
          "height": 589
        },
        "id": "JEj9SnNn79yE",
        "outputId": "4bb5e915-1c4f-4606-ced4-ddebab1216da"
      },
      "source": [
        "plt.figure(figsize=(18,12))\n",
        "for i, col in enumerate(df_mushrooms.columns) :\n",
        "    sns.set_palette(sns.color_palette(\"Set2\"))\n",
        "    ax = plt.subplot(6,4,i+1)\n",
        "    sns.countplot(\n",
        "        x=col, data = df_mushrooms, ax = ax, \n",
        "        order = df_mushrooms[col].value_counts(ascending=False).index\n",
        "    )\n",
        "    sns.set_style('darkgrid')\n",
        "    plt.xticks(rotation=0)\n",
        "    plt.ylabel(\"Frequencies\")\n",
        "    plt.tight_layout()\n",
        "plt.show()"
      ],
      "execution_count": 15,
      "outputs": [
        {
          "output_type": "display_data",
          "data": {
            "image/png": "[encoded data removed]",
            "text/plain": [
              "<Figure size 1296x864 with 23 Axes>"
            ]
          },
          "metadata": {
            "tags": [],
            "needs_background": "light"
          }
        }
      ]
    },
    {
      "cell_type": "markdown",
      "metadata": {
        "id": "WZwJHAyGJsbk"
      },
      "source": [
        "<H3>Target<H3>\n",
        "<H4>poisonous=p, edible=e<H4>"
      ]
    },
    {
      "cell_type": "code",
      "metadata": {
        "colab": {
          "base_uri": "https://localhost:8080/",
          "height": 295
        },
        "id": "e_fo5Q-UJhFW",
        "outputId": "e54cbea3-180e-4c43-8b7f-7e2b1d6b9cd2"
      },
      "source": [
        "df_mushrooms['class'].value_counts().plot(kind = 'bar', color = ['g','r'])\n",
        "plt.title('Target')"
      ],
      "execution_count": 16,
      "outputs": [
        {
          "output_type": "execute_result",
          "data": {
            "text/plain": [
              "Text(0.5, 1.0, 'Target')"
            ]
          },
          "metadata": {
            "tags": []
          },
          "execution_count": 16
        },
        {
          "output_type": "display_data",
          "data": {
            "image/png": "[encoded data removed]",
            "text/plain": [
              "<Figure size 432x288 with 1 Axes>"
            ]
          },
          "metadata": {
            "tags": []
          }
        }
      ]
    },
    {
      "cell_type": "markdown",
      "metadata": {
        "id": "4yr252M40Dd3"
      },
      "source": [
        "<H4>Data Preparation<H4>"
      ]
    },
    {
      "cell_type": "code",
      "metadata": {
        "colab": {
          "base_uri": "https://localhost:8080/",
          "height": 184
        },
        "id": "loPtO5vG0Hls",
        "outputId": "7cac6668-a4fd-43ec-cd66-9fee3cbb42f1"
      },
      "source": [
        "df_mushrooms['class'] = df_mushrooms['class'].replace({'p':1, 'e':0})\n",
        "df_mushrooms.head(2)"
      ],
      "execution_count": 17,
      "outputs": [
        {
          "output_type": "execute_result",
          "data": {
            "text/html": [
              "<div>\n",
              "<style scoped>\n",
              "    .dataframe tbody tr th:only-of-type {\n",
              "        vertical-align: middle;\n",
              "    }\n",
              "\n",
              "    .dataframe tbody tr th {\n",
              "        vertical-align: top;\n",
              "    }\n",
              "\n",
              "    .dataframe thead th {\n",
              "        text-align: right;\n",
              "    }\n",
              "</style>\n",
              "<table border=\"1\" class=\"dataframe\">\n",
              "  <thead>\n",
              "    <tr style=\"text-align: right;\">\n",
              "      <th></th>\n",
              "      <th>class</th>\n",
              "      <th>cap-shape</th>\n",
              "      <th>cap-surface</th>\n",
              "      <th>cap-color</th>\n",
              "      <th>bruises</th>\n",
              "      <th>odor</th>\n",
              "      <th>gill-attachment</th>\n",
              "      <th>gill-spacing</th>\n",
              "      <th>gill-size</th>\n",
              "      <th>gill-color</th>\n",
              "      <th>stalk-shape</th>\n",
              "      <th>stalk-root</th>\n",
              "      <th>stalk-surface-above-ring</th>\n",
              "      <th>stalk-surface-below-ring</th>\n",
              "      <th>stalk-color-above-ring</th>\n",
              "      <th>stalk-color-below-ring</th>\n",
              "      <th>veil-type</th>\n",
              "      <th>veil-color</th>\n",
              "      <th>ring-number</th>\n",
              "      <th>ring-type</th>\n",
              "      <th>spore-print-color</th>\n",
              "      <th>population</th>\n",
              "      <th>habitat</th>\n",
              "    </tr>\n",
              "  </thead>\n",
              "  <tbody>\n",
              "    <tr>\n",
              "      <th>0</th>\n",
              "      <td>1</td>\n",
              "      <td>x</td>\n",
              "      <td>s</td>\n",
              "      <td>n</td>\n",
              "      <td>t</td>\n",
              "      <td>p</td>\n",
              "      <td>f</td>\n",
              "      <td>c</td>\n",
              "      <td>n</td>\n",
              "      <td>k</td>\n",
              "      <td>e</td>\n",
              "      <td>e</td>\n",
              "      <td>s</td>\n",
              "      <td>s</td>\n",
              "      <td>w</td>\n",
              "      <td>w</td>\n",
              "      <td>p</td>\n",
              "      <td>w</td>\n",
              "      <td>o</td>\n",
              "      <td>p</td>\n",
              "      <td>k</td>\n",
              "      <td>s</td>\n",
              "      <td>u</td>\n",
              "    </tr>\n",
              "    <tr>\n",
              "      <th>1</th>\n",
              "      <td>0</td>\n",
              "      <td>x</td>\n",
              "      <td>s</td>\n",
              "      <td>y</td>\n",
              "      <td>t</td>\n",
              "      <td>a</td>\n",
              "      <td>f</td>\n",
              "      <td>c</td>\n",
              "      <td>b</td>\n",
              "      <td>k</td>\n",
              "      <td>e</td>\n",
              "      <td>c</td>\n",
              "      <td>s</td>\n",
              "      <td>s</td>\n",
              "      <td>w</td>\n",
              "      <td>w</td>\n",
              "      <td>p</td>\n",
              "      <td>w</td>\n",
              "      <td>o</td>\n",
              "      <td>p</td>\n",
              "      <td>n</td>\n",
              "      <td>n</td>\n",
              "      <td>g</td>\n",
              "    </tr>\n",
              "  </tbody>\n",
              "</table>\n",
              "</div>"
            ],
            "text/plain": [
              "   class cap-shape cap-surface  ... spore-print-color population habitat\n",
              "0      1         x           s  ...                 k          s       u\n",
              "1      0         x           s  ...                 n          n       g\n",
              "\n",
              "[2 rows x 23 columns]"
            ]
          },
          "metadata": {
            "tags": []
          },
          "execution_count": 17
        }
      ]
    },
    {
      "cell_type": "code",
      "metadata": {
        "colab": {
          "base_uri": "https://localhost:8080/",
          "height": 184
        },
        "id": "ykhAsEdY3Tph",
        "outputId": "ed2237e8-ab1f-4583-af71-4b5aa4d45eb0"
      },
      "source": [
        "df_mushrooms = df_mushrooms.rename(columns={'class':'poisonous'})\n",
        "df_mushrooms.head(2)"
      ],
      "execution_count": 18,
      "outputs": [
        {
          "output_type": "execute_result",
          "data": {
            "text/html": [
              "<div>\n",
              "<style scoped>\n",
              "    .dataframe tbody tr th:only-of-type {\n",
              "        vertical-align: middle;\n",
              "    }\n",
              "\n",
              "    .dataframe tbody tr th {\n",
              "        vertical-align: top;\n",
              "    }\n",
              "\n",
              "    .dataframe thead th {\n",
              "        text-align: right;\n",
              "    }\n",
              "</style>\n",
              "<table border=\"1\" class=\"dataframe\">\n",
              "  <thead>\n",
              "    <tr style=\"text-align: right;\">\n",
              "      <th></th>\n",
              "      <th>poisonous</th>\n",
              "      <th>cap-shape</th>\n",
              "      <th>cap-surface</th>\n",
              "      <th>cap-color</th>\n",
              "      <th>bruises</th>\n",
              "      <th>odor</th>\n",
              "      <th>gill-attachment</th>\n",
              "      <th>gill-spacing</th>\n",
              "      <th>gill-size</th>\n",
              "      <th>gill-color</th>\n",
              "      <th>stalk-shape</th>\n",
              "      <th>stalk-root</th>\n",
              "      <th>stalk-surface-above-ring</th>\n",
              "      <th>stalk-surface-below-ring</th>\n",
              "      <th>stalk-color-above-ring</th>\n",
              "      <th>stalk-color-below-ring</th>\n",
              "      <th>veil-type</th>\n",
              "      <th>veil-color</th>\n",
              "      <th>ring-number</th>\n",
              "      <th>ring-type</th>\n",
              "      <th>spore-print-color</th>\n",
              "      <th>population</th>\n",
              "      <th>habitat</th>\n",
              "    </tr>\n",
              "  </thead>\n",
              "  <tbody>\n",
              "    <tr>\n",
              "      <th>0</th>\n",
              "      <td>1</td>\n",
              "      <td>x</td>\n",
              "      <td>s</td>\n",
              "      <td>n</td>\n",
              "      <td>t</td>\n",
              "      <td>p</td>\n",
              "      <td>f</td>\n",
              "      <td>c</td>\n",
              "      <td>n</td>\n",
              "      <td>k</td>\n",
              "      <td>e</td>\n",
              "      <td>e</td>\n",
              "      <td>s</td>\n",
              "      <td>s</td>\n",
              "      <td>w</td>\n",
              "      <td>w</td>\n",
              "      <td>p</td>\n",
              "      <td>w</td>\n",
              "      <td>o</td>\n",
              "      <td>p</td>\n",
              "      <td>k</td>\n",
              "      <td>s</td>\n",
              "      <td>u</td>\n",
              "    </tr>\n",
              "    <tr>\n",
              "      <th>1</th>\n",
              "      <td>0</td>\n",
              "      <td>x</td>\n",
              "      <td>s</td>\n",
              "      <td>y</td>\n",
              "      <td>t</td>\n",
              "      <td>a</td>\n",
              "      <td>f</td>\n",
              "      <td>c</td>\n",
              "      <td>b</td>\n",
              "      <td>k</td>\n",
              "      <td>e</td>\n",
              "      <td>c</td>\n",
              "      <td>s</td>\n",
              "      <td>s</td>\n",
              "      <td>w</td>\n",
              "      <td>w</td>\n",
              "      <td>p</td>\n",
              "      <td>w</td>\n",
              "      <td>o</td>\n",
              "      <td>p</td>\n",
              "      <td>n</td>\n",
              "      <td>n</td>\n",
              "      <td>g</td>\n",
              "    </tr>\n",
              "  </tbody>\n",
              "</table>\n",
              "</div>"
            ],
            "text/plain": [
              "   poisonous cap-shape cap-surface  ... spore-print-color population habitat\n",
              "0          1         x           s  ...                 k          s       u\n",
              "1          0         x           s  ...                 n          n       g\n",
              "\n",
              "[2 rows x 23 columns]"
            ]
          },
          "metadata": {
            "tags": []
          },
          "execution_count": 18
        }
      ]
    },
    {
      "cell_type": "markdown",
      "metadata": {
        "id": "FeB4dlJjE7qG"
      },
      "source": [
        "#Missing Values\n",
        "<H4>stalk-root<H4>\n",
        "<H4>'['e'  'c'  'b'  'r'  '?']'<H4>"
      ]
    },
    {
      "cell_type": "markdown",
      "metadata": {
        "id": "Men2HqKuD7r7"
      },
      "source": [
        "<H3><H3>\n",
        "<img src=\"https://image.slidesharecdn.com/mushroomtutorial-111116143440-phpapp02/95/mushroom-tutorial-httprjdataminingweeblycom-12-728.jpg\" alt=\"Stalk Root Shapes\">"
      ]
    },
    {
      "cell_type": "code",
      "metadata": {
        "colab": {
          "base_uri": "https://localhost:8080/"
        },
        "id": "DPebsxXJw5Pn",
        "outputId": "99f8b8c2-34c9-4362-eaf7-f49bef74654b"
      },
      "source": [
        "#There are maily 6 stalk root shapes, assuming: e as Equal, c as Club-Shaped, b as Bulbous, r as rooting,\n",
        "###### A new value will be created 'w' for with cup and with rhizomorphs #######\n",
        "df_mushrooms['stalk-root'].unique()"
      ],
      "execution_count": 19,
      "outputs": [
        {
          "output_type": "execute_result",
          "data": {
            "text/plain": [
              "array(['e', 'c', 'b', 'r', '?'], dtype=object)"
            ]
          },
          "metadata": {
            "tags": []
          },
          "execution_count": 19
        }
      ]
    },
    {
      "cell_type": "code",
      "metadata": {
        "id": "ppo5mZFn54wI"
      },
      "source": [
        "df_mushrooms_unclean = df_mushrooms"
      ],
      "execution_count": 20,
      "outputs": []
    },
    {
      "cell_type": "code",
      "metadata": {
        "colab": {
          "base_uri": "https://localhost:8080/"
        },
        "id": "ttXJbyBozxWl",
        "outputId": "818c902c-4656-490a-e37c-f79e8fabf5b2"
      },
      "source": [
        "df_mushrooms_unclean['stalk-root'].value_counts()"
      ],
      "execution_count": 21,
      "outputs": [
        {
          "output_type": "execute_result",
          "data": {
            "text/plain": [
              "b    3776\n",
              "?    2480\n",
              "e    1120\n",
              "c     556\n",
              "r     192\n",
              "Name: stalk-root, dtype: int64"
            ]
          },
          "metadata": {
            "tags": []
          },
          "execution_count": 21
        }
      ]
    },
    {
      "cell_type": "code",
      "metadata": {
        "id": "IyMV122GBVon"
      },
      "source": [
        "df_mushrooms['stalk-root'] = df_mushrooms['stalk-root'].replace({'?' : 'w'})"
      ],
      "execution_count": 22,
      "outputs": []
    },
    {
      "cell_type": "code",
      "metadata": {
        "colab": {
          "base_uri": "https://localhost:8080/"
        },
        "id": "f47pbc6rDQXK",
        "outputId": "bf42f4e6-1d15-4a9d-b5d5-153dd1749006"
      },
      "source": [
        "df_mushrooms['stalk-root'].value_counts()"
      ],
      "execution_count": 23,
      "outputs": [
        {
          "output_type": "execute_result",
          "data": {
            "text/plain": [
              "b    3776\n",
              "w    2480\n",
              "e    1120\n",
              "c     556\n",
              "r     192\n",
              "Name: stalk-root, dtype: int64"
            ]
          },
          "metadata": {
            "tags": []
          },
          "execution_count": 23
        }
      ]
    },
    {
      "cell_type": "markdown",
      "metadata": {
        "id": "qosgapbY6Ayl"
      },
      "source": [
        "# Features Encoding"
      ]
    },
    {
      "cell_type": "code",
      "metadata": {
        "colab": {
          "base_uri": "https://localhost:8080/"
        },
        "id": "PngvaTqc6JL1",
        "outputId": "0643abb4-c2eb-4d7b-82d7-c8292de5a545"
      },
      "source": [
        "# Dummy encode for binary columns (Unique Values = 2) \n",
        "# and One Hot Encode for +2 unique values(categorical columns)\n",
        "\n",
        "binary_col = df_mushrooms.columns[df_mushrooms.nunique() == 2 ]\n",
        "categorical_col = [col for col in df_mushrooms.columns if col not in binary_col]\n",
        "\n",
        "dummy_binary_cols = pd.get_dummies( df_mushrooms[binary_col], drop_first=True, prefix_sep = \"_bi_\" )\n",
        "one_hot_categorical_cols = pd.get_dummies( df_mushrooms[categorical_col], drop_first=False, prefix=\"categ_\")\n",
        "print(dummy_binary_cols.head(3))\n",
        "print(dummy_binary_cols.shape)\n",
        "print(one_hot_categorical_cols.head(3))\n",
        "print(one_hot_categorical_cols.shape)"
      ],
      "execution_count": 24,
      "outputs": [
        {
          "output_type": "stream",
          "text": [
            "   poisonous  bruises_bi_t  ...  gill-size_bi_n  stalk-shape_bi_t\n",
            "0          1             1  ...               1                 0\n",
            "1          0             1  ...               0                 0\n",
            "2          0             1  ...               0                 0\n",
            "\n",
            "[3 rows x 6 columns]\n",
            "(8124, 6)\n",
            "   categ__b  categ__c  categ__f  ...  categ__p  categ__u  categ__w\n",
            "0         0         0         0  ...         0         1         0\n",
            "1         0         0         0  ...         0         0         0\n",
            "2         1         0         0  ...         0         0         0\n",
            "\n",
            "[3 rows x 107 columns]\n",
            "(8124, 107)\n"
          ],
          "name": "stdout"
        }
      ]
    },
    {
      "cell_type": "code",
      "metadata": {
        "colab": {
          "base_uri": "https://localhost:8080/"
        },
        "id": "MmaI-bZlSjkA",
        "outputId": "f049bede-d029-43fb-ef8d-280d0ce4430f"
      },
      "source": [
        "df_model = pd.concat([dummy_binary_cols, one_hot_categorical_cols], axis=1)\n",
        "print(df_model.head(3))\n",
        "print(df_model.shape)"
      ],
      "execution_count": 25,
      "outputs": [
        {
          "output_type": "stream",
          "text": [
            "   poisonous  bruises_bi_t  gill-attachment_bi_f  ...  categ__p  categ__u  categ__w\n",
            "0          1             1                     1  ...         0         1         0\n",
            "1          0             1                     1  ...         0         0         0\n",
            "2          0             1                     1  ...         0         0         0\n",
            "\n",
            "[3 rows x 113 columns]\n",
            "(8124, 113)\n"
          ],
          "name": "stdout"
        }
      ]
    },
    {
      "cell_type": "code",
      "metadata": {
        "colab": {
          "base_uri": "https://localhost:8080/",
          "height": 494
        },
        "id": "xuDo2NEeVfPZ",
        "outputId": "69f310da-af40-47aa-973d-4cf48257c8a2"
      },
      "source": [
        "corr_matrix = df_model.corr()\n",
        "corr_matrix"
      ],
      "execution_count": 26,
      "outputs": [
        {
          "output_type": "execute_result",
          "data": {
            "text/html": [
              "<div>\n",
              "<style scoped>\n",
              "    .dataframe tbody tr th:only-of-type {\n",
              "        vertical-align: middle;\n",
              "    }\n",
              "\n",
              "    .dataframe tbody tr th {\n",
              "        vertical-align: top;\n",
              "    }\n",
              "\n",
              "    .dataframe thead th {\n",
              "        text-align: right;\n",
              "    }\n",
              "</style>\n",
              "<table border=\"1\" class=\"dataframe\">\n",
              "  <thead>\n",
              "    <tr style=\"text-align: right;\">\n",
              "      <th></th>\n",
              "      <th>poisonous</th>\n",
              "      <th>bruises_bi_t</th>\n",
              "      <th>gill-attachment_bi_f</th>\n",
              "      <th>gill-spacing_bi_w</th>\n",
              "      <th>gill-size_bi_n</th>\n",
              "      <th>stalk-shape_bi_t</th>\n",
              "      <th>categ__b</th>\n",
              "      <th>categ__c</th>\n",
              "      <th>categ__f</th>\n",
              "      <th>categ__k</th>\n",
              "      <th>categ__s</th>\n",
              "      <th>categ__x</th>\n",
              "      <th>categ__f</th>\n",
              "      <th>categ__g</th>\n",
              "      <th>categ__s</th>\n",
              "      <th>categ__y</th>\n",
              "      <th>categ__b</th>\n",
              "      <th>categ__c</th>\n",
              "      <th>categ__e</th>\n",
              "      <th>categ__g</th>\n",
              "      <th>categ__n</th>\n",
              "      <th>categ__p</th>\n",
              "      <th>categ__r</th>\n",
              "      <th>categ__u</th>\n",
              "      <th>categ__w</th>\n",
              "      <th>categ__y</th>\n",
              "      <th>categ__a</th>\n",
              "      <th>categ__c</th>\n",
              "      <th>categ__f</th>\n",
              "      <th>categ__l</th>\n",
              "      <th>categ__m</th>\n",
              "      <th>categ__n</th>\n",
              "      <th>categ__p</th>\n",
              "      <th>categ__s</th>\n",
              "      <th>categ__y</th>\n",
              "      <th>categ__b</th>\n",
              "      <th>categ__e</th>\n",
              "      <th>categ__g</th>\n",
              "      <th>categ__h</th>\n",
              "      <th>categ__k</th>\n",
              "      <th>...</th>\n",
              "      <th>categ__n</th>\n",
              "      <th>categ__o</th>\n",
              "      <th>categ__p</th>\n",
              "      <th>categ__w</th>\n",
              "      <th>categ__y</th>\n",
              "      <th>categ__p</th>\n",
              "      <th>categ__n</th>\n",
              "      <th>categ__o</th>\n",
              "      <th>categ__w</th>\n",
              "      <th>categ__y</th>\n",
              "      <th>categ__n</th>\n",
              "      <th>categ__o</th>\n",
              "      <th>categ__t</th>\n",
              "      <th>categ__e</th>\n",
              "      <th>categ__f</th>\n",
              "      <th>categ__l</th>\n",
              "      <th>categ__n</th>\n",
              "      <th>categ__p</th>\n",
              "      <th>categ__b</th>\n",
              "      <th>categ__h</th>\n",
              "      <th>categ__k</th>\n",
              "      <th>categ__n</th>\n",
              "      <th>categ__o</th>\n",
              "      <th>categ__r</th>\n",
              "      <th>categ__u</th>\n",
              "      <th>categ__w</th>\n",
              "      <th>categ__y</th>\n",
              "      <th>categ__a</th>\n",
              "      <th>categ__c</th>\n",
              "      <th>categ__n</th>\n",
              "      <th>categ__s</th>\n",
              "      <th>categ__v</th>\n",
              "      <th>categ__y</th>\n",
              "      <th>categ__d</th>\n",
              "      <th>categ__g</th>\n",
              "      <th>categ__l</th>\n",
              "      <th>categ__m</th>\n",
              "      <th>categ__p</th>\n",
              "      <th>categ__u</th>\n",
              "      <th>categ__w</th>\n",
              "    </tr>\n",
              "  </thead>\n",
              "  <tbody>\n",
              "    <tr>\n",
              "      <th>poisonous</th>\n",
              "      <td>1.000000</td>\n",
              "      <td>-0.501530</td>\n",
              "      <td>0.129200</td>\n",
              "      <td>-0.348387</td>\n",
              "      <td>0.540024</td>\n",
              "      <td>-0.102019</td>\n",
              "      <td>-0.182567</td>\n",
              "      <td>0.023007</td>\n",
              "      <td>0.018526</td>\n",
              "      <td>0.163565</td>\n",
              "      <td>-0.060664</td>\n",
              "      <td>-0.026886</td>\n",
              "      <td>-0.195415</td>\n",
              "      <td>0.023007</td>\n",
              "      <td>0.095454</td>\n",
              "      <td>0.088677</td>\n",
              "      <td>0.067544</td>\n",
              "      <td>-0.030910</td>\n",
              "      <td>0.097112</td>\n",
              "      <td>-0.046456</td>\n",
              "      <td>-0.044360</td>\n",
              "      <td>0.034702</td>\n",
              "      <td>-0.042854</td>\n",
              "      <td>-0.042854</td>\n",
              "      <td>-0.133683</td>\n",
              "      <td>0.113014</td>\n",
              "      <td>-0.219529</td>\n",
              "      <td>0.161278</td>\n",
              "      <td>0.623842</td>\n",
              "      <td>-0.219529</td>\n",
              "      <td>0.069159</td>\n",
              "      <td>-0.785557</td>\n",
              "      <td>0.186984</td>\n",
              "      <td>0.286360</td>\n",
              "      <td>0.286360</td>\n",
              "      <td>0.538808</td>\n",
              "      <td>-0.105491</td>\n",
              "      <td>0.120285</td>\n",
              "      <td>0.150694</td>\n",
              "      <td>-0.149641</td>\n",
              "      <td>...</td>\n",
              "      <td>0.203966</td>\n",
              "      <td>-0.150087</td>\n",
              "      <td>0.230277</td>\n",
              "      <td>-0.214112</td>\n",
              "      <td>0.056426</td>\n",
              "      <td>NaN</td>\n",
              "      <td>-0.105491</td>\n",
              "      <td>-0.105491</td>\n",
              "      <td>0.140541</td>\n",
              "      <td>0.032545</td>\n",
              "      <td>0.069159</td>\n",
              "      <td>0.182101</td>\n",
              "      <td>-0.204600</td>\n",
              "      <td>0.223286</td>\n",
              "      <td>-0.074371</td>\n",
              "      <td>0.451619</td>\n",
              "      <td>0.069159</td>\n",
              "      <td>-0.540469</td>\n",
              "      <td>-0.074371</td>\n",
              "      <td>0.490229</td>\n",
              "      <td>-0.396832</td>\n",
              "      <td>-0.416645</td>\n",
              "      <td>-0.074371</td>\n",
              "      <td>0.098024</td>\n",
              "      <td>-0.074371</td>\n",
              "      <td>0.357384</td>\n",
              "      <td>-0.074371</td>\n",
              "      <td>-0.214871</td>\n",
              "      <td>-0.137645</td>\n",
              "      <td>-0.219529</td>\n",
              "      <td>-0.159572</td>\n",
              "      <td>0.443722</td>\n",
              "      <td>-0.107055</td>\n",
              "      <td>-0.126123</td>\n",
              "      <td>-0.165004</td>\n",
              "      <td>0.155150</td>\n",
              "      <td>-0.138627</td>\n",
              "      <td>0.323346</td>\n",
              "      <td>0.112078</td>\n",
              "      <td>-0.150087</td>\n",
              "    </tr>\n",
              "    <tr>\n",
              "      <th>bruises_bi_t</th>\n",
              "      <td>-0.501530</td>\n",
              "      <td>1.000000</td>\n",
              "      <td>0.137359</td>\n",
              "      <td>-0.299473</td>\n",
              "      <td>-0.369596</td>\n",
              "      <td>0.099364</td>\n",
              "      <td>0.115686</td>\n",
              "      <td>0.003803</td>\n",
              "      <td>0.045188</td>\n",
              "      <td>-0.229578</td>\n",
              "      <td>-0.053026</td>\n",
              "      <td>0.048557</td>\n",
              "      <td>-0.028808</td>\n",
              "      <td>0.026321</td>\n",
              "      <td>-0.104439</td>\n",
              "      <td>0.124401</td>\n",
              "      <td>0.172330</td>\n",
              "      <td>-0.035000</td>\n",
              "      <td>0.000426</td>\n",
              "      <td>-0.050501</td>\n",
              "      <td>-0.051746</td>\n",
              "      <td>0.038160</td>\n",
              "      <td>-0.037458</td>\n",
              "      <td>-0.037458</td>\n",
              "      <td>0.095555</td>\n",
              "      <td>-0.033564</td>\n",
              "      <td>0.269875</td>\n",
              "      <td>-0.131191</td>\n",
              "      <td>-0.344642</td>\n",
              "      <td>0.269875</td>\n",
              "      <td>-0.056257</td>\n",
              "      <td>0.285171</td>\n",
              "      <td>0.213915</td>\n",
              "      <td>-0.232938</td>\n",
              "      <td>-0.232938</td>\n",
              "      <td>-0.438292</td>\n",
              "      <td>0.129684</td>\n",
              "      <td>-0.138321</td>\n",
              "      <td>-0.181608</td>\n",
              "      <td>0.025677</td>\n",
              "      <td>...</td>\n",
              "      <td>-0.218691</td>\n",
              "      <td>-0.131191</td>\n",
              "      <td>-0.119769</td>\n",
              "      <td>0.153438</td>\n",
              "      <td>-0.045900</td>\n",
              "      <td>NaN</td>\n",
              "      <td>-0.092210</td>\n",
              "      <td>-0.092210</td>\n",
              "      <td>0.133964</td>\n",
              "      <td>-0.026474</td>\n",
              "      <td>-0.056257</td>\n",
              "      <td>-0.029480</td>\n",
              "      <td>0.044566</td>\n",
              "      <td>-0.506406</td>\n",
              "      <td>-0.065008</td>\n",
              "      <td>-0.367368</td>\n",
              "      <td>-0.056257</td>\n",
              "      <td>0.767036</td>\n",
              "      <td>-0.065008</td>\n",
              "      <td>-0.243244</td>\n",
              "      <td>0.335756</td>\n",
              "      <td>0.334734</td>\n",
              "      <td>-0.065008</td>\n",
              "      <td>0.112142</td>\n",
              "      <td>0.091427</td>\n",
              "      <td>-0.416877</td>\n",
              "      <td>-0.065008</td>\n",
              "      <td>-0.187820</td>\n",
              "      <td>0.073229</td>\n",
              "      <td>0.103639</td>\n",
              "      <td>0.072997</td>\n",
              "      <td>-0.179268</td>\n",
              "      <td>0.162030</td>\n",
              "      <td>0.264457</td>\n",
              "      <td>-0.131746</td>\n",
              "      <td>-0.278238</td>\n",
              "      <td>0.228986</td>\n",
              "      <td>-0.249460</td>\n",
              "      <td>0.143017</td>\n",
              "      <td>0.184507</td>\n",
              "    </tr>\n",
              "    <tr>\n",
              "      <th>gill-attachment_bi_f</th>\n",
              "      <td>0.129200</td>\n",
              "      <td>0.137359</td>\n",
              "      <td>1.000000</td>\n",
              "      <td>0.071489</td>\n",
              "      <td>0.108984</td>\n",
              "      <td>0.186485</td>\n",
              "      <td>-0.122896</td>\n",
              "      <td>0.003615</td>\n",
              "      <td>0.043740</td>\n",
              "      <td>-0.083575</td>\n",
              "      <td>0.010244</td>\n",
              "      <td>0.063156</td>\n",
              "      <td>0.102989</td>\n",
              "      <td>0.003615</td>\n",
              "      <td>-0.210358</td>\n",
              "      <td>0.104304</td>\n",
              "      <td>0.023671</td>\n",
              "      <td>-0.051393</td>\n",
              "      <td>0.065522</td>\n",
              "      <td>0.088146</td>\n",
              "      <td>-0.239772</td>\n",
              "      <td>0.021882</td>\n",
              "      <td>0.007236</td>\n",
              "      <td>0.007236</td>\n",
              "      <td>0.062415</td>\n",
              "      <td>0.063512</td>\n",
              "      <td>0.037070</td>\n",
              "      <td>0.025344</td>\n",
              "      <td>0.098032</td>\n",
              "      <td>0.037070</td>\n",
              "      <td>-0.199347</td>\n",
              "      <td>-0.157755</td>\n",
              "      <td>0.029383</td>\n",
              "      <td>0.044999</td>\n",
              "      <td>0.044999</td>\n",
              "      <td>0.084670</td>\n",
              "      <td>0.017813</td>\n",
              "      <td>0.052027</td>\n",
              "      <td>0.051261</td>\n",
              "      <td>0.037458</td>\n",
              "      <td>...</td>\n",
              "      <td>0.042247</td>\n",
              "      <td>-0.955097</td>\n",
              "      <td>0.089136</td>\n",
              "      <td>0.176364</td>\n",
              "      <td>0.008867</td>\n",
              "      <td>NaN</td>\n",
              "      <td>-0.671306</td>\n",
              "      <td>-0.671306</td>\n",
              "      <td>0.935238</td>\n",
              "      <td>0.005114</td>\n",
              "      <td>-0.199347</td>\n",
              "      <td>0.004504</td>\n",
              "      <td>0.046001</td>\n",
              "      <td>0.117362</td>\n",
              "      <td>0.012558</td>\n",
              "      <td>0.070969</td>\n",
              "      <td>-0.199347</td>\n",
              "      <td>-0.138778</td>\n",
              "      <td>-0.473272</td>\n",
              "      <td>0.081674</td>\n",
              "      <td>0.089136</td>\n",
              "      <td>0.005199</td>\n",
              "      <td>-0.473272</td>\n",
              "      <td>0.015404</td>\n",
              "      <td>0.012558</td>\n",
              "      <td>0.074456</td>\n",
              "      <td>-0.473272</td>\n",
              "      <td>0.036283</td>\n",
              "      <td>-0.407552</td>\n",
              "      <td>0.037070</td>\n",
              "      <td>0.069399</td>\n",
              "      <td>0.013080</td>\n",
              "      <td>0.084172</td>\n",
              "      <td>0.100905</td>\n",
              "      <td>0.097662</td>\n",
              "      <td>-0.436199</td>\n",
              "      <td>0.031453</td>\n",
              "      <td>0.065947</td>\n",
              "      <td>0.035483</td>\n",
              "      <td>0.025344</td>\n",
              "    </tr>\n",
              "    <tr>\n",
              "      <th>gill-spacing_bi_w</th>\n",
              "      <td>-0.348387</td>\n",
              "      <td>-0.299473</td>\n",
              "      <td>0.071489</td>\n",
              "      <td>1.000000</td>\n",
              "      <td>-0.108333</td>\n",
              "      <td>0.080895</td>\n",
              "      <td>0.039406</td>\n",
              "      <td>0.050573</td>\n",
              "      <td>-0.039154</td>\n",
              "      <td>-0.019591</td>\n",
              "      <td>-0.027598</td>\n",
              "      <td>0.033328</td>\n",
              "      <td>0.202414</td>\n",
              "      <td>0.050573</td>\n",
              "      <td>0.152145</td>\n",
              "      <td>-0.333229</td>\n",
              "      <td>-0.063773</td>\n",
              "      <td>0.076996</td>\n",
              "      <td>-0.208841</td>\n",
              "      <td>0.107765</td>\n",
              "      <td>-0.066117</td>\n",
              "      <td>0.022167</td>\n",
              "      <td>-0.019495</td>\n",
              "      <td>-0.019495</td>\n",
              "      <td>0.320419</td>\n",
              "      <td>-0.115760</td>\n",
              "      <td>-0.025662</td>\n",
              "      <td>0.143116</td>\n",
              "      <td>-0.264112</td>\n",
              "      <td>-0.025662</td>\n",
              "      <td>-0.029279</td>\n",
              "      <td>0.371333</td>\n",
              "      <td>-0.079162</td>\n",
              "      <td>-0.121234</td>\n",
              "      <td>-0.121234</td>\n",
              "      <td>-0.228112</td>\n",
              "      <td>-0.047991</td>\n",
              "      <td>-0.001668</td>\n",
              "      <td>0.086197</td>\n",
              "      <td>0.193146</td>\n",
              "      <td>...</td>\n",
              "      <td>-0.047746</td>\n",
              "      <td>-0.068279</td>\n",
              "      <td>-0.240145</td>\n",
              "      <td>0.367768</td>\n",
              "      <td>0.025418</td>\n",
              "      <td>NaN</td>\n",
              "      <td>-0.047991</td>\n",
              "      <td>-0.047991</td>\n",
              "      <td>0.052453</td>\n",
              "      <td>0.071539</td>\n",
              "      <td>-0.029279</td>\n",
              "      <td>-0.230729</td>\n",
              "      <td>0.244417</td>\n",
              "      <td>0.264962</td>\n",
              "      <td>-0.033834</td>\n",
              "      <td>-0.191199</td>\n",
              "      <td>-0.029279</td>\n",
              "      <td>-0.102263</td>\n",
              "      <td>-0.033834</td>\n",
              "      <td>-0.220039</td>\n",
              "      <td>0.103008</td>\n",
              "      <td>0.126615</td>\n",
              "      <td>-0.033834</td>\n",
              "      <td>-0.041500</td>\n",
              "      <td>0.175668</td>\n",
              "      <td>-0.024711</td>\n",
              "      <td>-0.033834</td>\n",
              "      <td>0.507534</td>\n",
              "      <td>-0.064994</td>\n",
              "      <td>0.122756</td>\n",
              "      <td>0.347365</td>\n",
              "      <td>-0.308043</td>\n",
              "      <td>-0.226770</td>\n",
              "      <td>-0.217237</td>\n",
              "      <td>0.537841</td>\n",
              "      <td>-0.077632</td>\n",
              "      <td>-0.084739</td>\n",
              "      <td>-0.177670</td>\n",
              "      <td>-0.095595</td>\n",
              "      <td>-0.068279</td>\n",
              "    </tr>\n",
              "    <tr>\n",
              "      <th>gill-size_bi_n</th>\n",
              "      <td>0.540024</td>\n",
              "      <td>-0.369596</td>\n",
              "      <td>0.108984</td>\n",
              "      <td>-0.108333</td>\n",
              "      <td>1.000000</td>\n",
              "      <td>0.214576</td>\n",
              "      <td>-0.148449</td>\n",
              "      <td>0.033174</td>\n",
              "      <td>-0.075766</td>\n",
              "      <td>0.306333</td>\n",
              "      <td>0.093993</td>\n",
              "      <td>-0.056995</td>\n",
              "      <td>-0.257889</td>\n",
              "      <td>0.033174</td>\n",
              "      <td>0.198257</td>\n",
              "      <td>0.048362</td>\n",
              "      <td>-0.097221</td>\n",
              "      <td>0.037721</td>\n",
              "      <td>0.274701</td>\n",
              "      <td>-0.290760</td>\n",
              "      <td>0.221438</td>\n",
              "      <td>0.039308</td>\n",
              "      <td>0.066398</td>\n",
              "      <td>0.066398</td>\n",
              "      <td>-0.045897</td>\n",
              "      <td>-0.204190</td>\n",
              "      <td>-0.093164</td>\n",
              "      <td>0.232546</td>\n",
              "      <td>-0.055394</td>\n",
              "      <td>-0.093164</td>\n",
              "      <td>-0.044636</td>\n",
              "      <td>-0.457211</td>\n",
              "      <td>0.269611</td>\n",
              "      <td>0.412899</td>\n",
              "      <td>0.412899</td>\n",
              "      <td>0.776903</td>\n",
              "      <td>-0.073162</td>\n",
              "      <td>-0.147516</td>\n",
              "      <td>-0.199374</td>\n",
              "      <td>-0.046531</td>\n",
              "      <td>...</td>\n",
              "      <td>-0.103370</td>\n",
              "      <td>-0.104090</td>\n",
              "      <td>0.180357</td>\n",
              "      <td>0.109241</td>\n",
              "      <td>0.081360</td>\n",
              "      <td>NaN</td>\n",
              "      <td>-0.073162</td>\n",
              "      <td>-0.073162</td>\n",
              "      <td>0.092540</td>\n",
              "      <td>0.046927</td>\n",
              "      <td>-0.044636</td>\n",
              "      <td>0.194983</td>\n",
              "      <td>-0.188931</td>\n",
              "      <td>0.537772</td>\n",
              "      <td>0.115232</td>\n",
              "      <td>-0.291479</td>\n",
              "      <td>-0.044636</td>\n",
              "      <td>-0.308466</td>\n",
              "      <td>-0.051579</td>\n",
              "      <td>-0.303538</td>\n",
              "      <td>-0.194064</td>\n",
              "      <td>-0.179356</td>\n",
              "      <td>-0.051579</td>\n",
              "      <td>-0.063265</td>\n",
              "      <td>0.115232</td>\n",
              "      <td>0.634680</td>\n",
              "      <td>-0.051579</td>\n",
              "      <td>-0.149021</td>\n",
              "      <td>-0.118546</td>\n",
              "      <td>-0.152251</td>\n",
              "      <td>-0.119577</td>\n",
              "      <td>0.506475</td>\n",
              "      <td>-0.298685</td>\n",
              "      <td>-0.016064</td>\n",
              "      <td>-0.323808</td>\n",
              "      <td>0.336217</td>\n",
              "      <td>-0.129183</td>\n",
              "      <td>0.170190</td>\n",
              "      <td>0.141152</td>\n",
              "      <td>-0.104090</td>\n",
              "    </tr>\n",
              "    <tr>\n",
              "      <th>...</th>\n",
              "      <td>...</td>\n",
              "      <td>...</td>\n",
              "      <td>...</td>\n",
              "      <td>...</td>\n",
              "      <td>...</td>\n",
              "      <td>...</td>\n",
              "      <td>...</td>\n",
              "      <td>...</td>\n",
              "      <td>...</td>\n",
              "      <td>...</td>\n",
              "      <td>...</td>\n",
              "      <td>...</td>\n",
              "      <td>...</td>\n",
              "      <td>...</td>\n",
              "      <td>...</td>\n",
              "      <td>...</td>\n",
              "      <td>...</td>\n",
              "      <td>...</td>\n",
              "      <td>...</td>\n",
              "      <td>...</td>\n",
              "      <td>...</td>\n",
              "      <td>...</td>\n",
              "      <td>...</td>\n",
              "      <td>...</td>\n",
              "      <td>...</td>\n",
              "      <td>...</td>\n",
              "      <td>...</td>\n",
              "      <td>...</td>\n",
              "      <td>...</td>\n",
              "      <td>...</td>\n",
              "      <td>...</td>\n",
              "      <td>...</td>\n",
              "      <td>...</td>\n",
              "      <td>...</td>\n",
              "      <td>...</td>\n",
              "      <td>...</td>\n",
              "      <td>...</td>\n",
              "      <td>...</td>\n",
              "      <td>...</td>\n",
              "      <td>...</td>\n",
              "      <td>...</td>\n",
              "      <td>...</td>\n",
              "      <td>...</td>\n",
              "      <td>...</td>\n",
              "      <td>...</td>\n",
              "      <td>...</td>\n",
              "      <td>...</td>\n",
              "      <td>...</td>\n",
              "      <td>...</td>\n",
              "      <td>...</td>\n",
              "      <td>...</td>\n",
              "      <td>...</td>\n",
              "      <td>...</td>\n",
              "      <td>...</td>\n",
              "      <td>...</td>\n",
              "      <td>...</td>\n",
              "      <td>...</td>\n",
              "      <td>...</td>\n",
              "      <td>...</td>\n",
              "      <td>...</td>\n",
              "      <td>...</td>\n",
              "      <td>...</td>\n",
              "      <td>...</td>\n",
              "      <td>...</td>\n",
              "      <td>...</td>\n",
              "      <td>...</td>\n",
              "      <td>...</td>\n",
              "      <td>...</td>\n",
              "      <td>...</td>\n",
              "      <td>...</td>\n",
              "      <td>...</td>\n",
              "      <td>...</td>\n",
              "      <td>...</td>\n",
              "      <td>...</td>\n",
              "      <td>...</td>\n",
              "      <td>...</td>\n",
              "      <td>...</td>\n",
              "      <td>...</td>\n",
              "      <td>...</td>\n",
              "      <td>...</td>\n",
              "      <td>...</td>\n",
              "    </tr>\n",
              "    <tr>\n",
              "      <th>categ__l</th>\n",
              "      <td>0.155150</td>\n",
              "      <td>-0.278238</td>\n",
              "      <td>-0.436199</td>\n",
              "      <td>-0.077632</td>\n",
              "      <td>0.336217</td>\n",
              "      <td>0.085287</td>\n",
              "      <td>0.010113</td>\n",
              "      <td>0.065707</td>\n",
              "      <td>-0.052326</td>\n",
              "      <td>0.235108</td>\n",
              "      <td>-0.021242</td>\n",
              "      <td>-0.096639</td>\n",
              "      <td>-0.191987</td>\n",
              "      <td>0.065707</td>\n",
              "      <td>0.190799</td>\n",
              "      <td>-0.006819</td>\n",
              "      <td>-0.049085</td>\n",
              "      <td>0.107833</td>\n",
              "      <td>0.140610</td>\n",
              "      <td>-0.182780</td>\n",
              "      <td>0.243915</td>\n",
              "      <td>-0.045375</td>\n",
              "      <td>-0.015005</td>\n",
              "      <td>-0.015005</td>\n",
              "      <td>-0.119703</td>\n",
              "      <td>-0.122101</td>\n",
              "      <td>-0.076868</td>\n",
              "      <td>-0.052553</td>\n",
              "      <td>-0.026843</td>\n",
              "      <td>-0.076868</td>\n",
              "      <td>-0.022536</td>\n",
              "      <td>-0.086260</td>\n",
              "      <td>-0.060929</td>\n",
              "      <td>0.210399</td>\n",
              "      <td>0.210399</td>\n",
              "      <td>0.395882</td>\n",
              "      <td>-0.036938</td>\n",
              "      <td>-0.107883</td>\n",
              "      <td>-0.106295</td>\n",
              "      <td>-0.077673</td>\n",
              "      <td>...</td>\n",
              "      <td>-0.007410</td>\n",
              "      <td>0.460597</td>\n",
              "      <td>0.092827</td>\n",
              "      <td>-0.124606</td>\n",
              "      <td>0.041458</td>\n",
              "      <td>NaN</td>\n",
              "      <td>0.323738</td>\n",
              "      <td>0.323738</td>\n",
              "      <td>-0.470332</td>\n",
              "      <td>0.092947</td>\n",
              "      <td>-0.022536</td>\n",
              "      <td>0.098443</td>\n",
              "      <td>-0.095387</td>\n",
              "      <td>0.297637</td>\n",
              "      <td>-0.026041</td>\n",
              "      <td>-0.147161</td>\n",
              "      <td>-0.022536</td>\n",
              "      <td>-0.167616</td>\n",
              "      <td>0.228236</td>\n",
              "      <td>-0.169359</td>\n",
              "      <td>-0.184834</td>\n",
              "      <td>-0.145501</td>\n",
              "      <td>0.228236</td>\n",
              "      <td>-0.031941</td>\n",
              "      <td>-0.026041</td>\n",
              "      <td>0.352405</td>\n",
              "      <td>0.228236</td>\n",
              "      <td>-0.075237</td>\n",
              "      <td>0.156476</td>\n",
              "      <td>-0.076868</td>\n",
              "      <td>-0.143906</td>\n",
              "      <td>0.248675</td>\n",
              "      <td>-0.174539</td>\n",
              "      <td>-0.268668</td>\n",
              "      <td>-0.202512</td>\n",
              "      <td>1.000000</td>\n",
              "      <td>-0.065222</td>\n",
              "      <td>-0.136749</td>\n",
              "      <td>-0.073577</td>\n",
              "      <td>-0.052553</td>\n",
              "    </tr>\n",
              "    <tr>\n",
              "      <th>categ__m</th>\n",
              "      <td>-0.138627</td>\n",
              "      <td>0.228986</td>\n",
              "      <td>0.031453</td>\n",
              "      <td>-0.084739</td>\n",
              "      <td>-0.129183</td>\n",
              "      <td>-0.221048</td>\n",
              "      <td>0.374316</td>\n",
              "      <td>-0.004286</td>\n",
              "      <td>-0.129312</td>\n",
              "      <td>-0.065047</td>\n",
              "      <td>-0.012142</td>\n",
              "      <td>-0.004529</td>\n",
              "      <td>-0.122077</td>\n",
              "      <td>-0.004286</td>\n",
              "      <td>0.077081</td>\n",
              "      <td>0.039697</td>\n",
              "      <td>0.027701</td>\n",
              "      <td>-0.014249</td>\n",
              "      <td>-0.091884</td>\n",
              "      <td>-0.104483</td>\n",
              "      <td>-0.120753</td>\n",
              "      <td>0.034199</td>\n",
              "      <td>-0.008577</td>\n",
              "      <td>-0.008577</td>\n",
              "      <td>0.203103</td>\n",
              "      <td>0.174808</td>\n",
              "      <td>0.347262</td>\n",
              "      <td>-0.030041</td>\n",
              "      <td>-0.116202</td>\n",
              "      <td>0.347262</td>\n",
              "      <td>-0.012882</td>\n",
              "      <td>-0.121145</td>\n",
              "      <td>-0.034829</td>\n",
              "      <td>-0.053340</td>\n",
              "      <td>-0.053340</td>\n",
              "      <td>-0.100363</td>\n",
              "      <td>-0.021115</td>\n",
              "      <td>0.111732</td>\n",
              "      <td>-0.060762</td>\n",
              "      <td>0.149374</td>\n",
              "      <td>...</td>\n",
              "      <td>-0.050077</td>\n",
              "      <td>-0.030041</td>\n",
              "      <td>-0.105657</td>\n",
              "      <td>0.178343</td>\n",
              "      <td>-0.010510</td>\n",
              "      <td>NaN</td>\n",
              "      <td>-0.021115</td>\n",
              "      <td>-0.021115</td>\n",
              "      <td>0.030676</td>\n",
              "      <td>-0.006062</td>\n",
              "      <td>-0.012882</td>\n",
              "      <td>-0.032347</td>\n",
              "      <td>0.036495</td>\n",
              "      <td>-0.139113</td>\n",
              "      <td>-0.014886</td>\n",
              "      <td>-0.084122</td>\n",
              "      <td>-0.012882</td>\n",
              "      <td>0.197609</td>\n",
              "      <td>-0.014886</td>\n",
              "      <td>-0.096811</td>\n",
              "      <td>0.095340</td>\n",
              "      <td>0.088382</td>\n",
              "      <td>-0.014886</td>\n",
              "      <td>0.235737</td>\n",
              "      <td>-0.014886</td>\n",
              "      <td>-0.124586</td>\n",
              "      <td>-0.014886</td>\n",
              "      <td>-0.043008</td>\n",
              "      <td>-0.040355</td>\n",
              "      <td>0.347262</td>\n",
              "      <td>0.152473</td>\n",
              "      <td>-0.144434</td>\n",
              "      <td>-0.099772</td>\n",
              "      <td>-0.153579</td>\n",
              "      <td>-0.115762</td>\n",
              "      <td>-0.065222</td>\n",
              "      <td>1.000000</td>\n",
              "      <td>-0.078170</td>\n",
              "      <td>-0.042059</td>\n",
              "      <td>-0.030041</td>\n",
              "    </tr>\n",
              "    <tr>\n",
              "      <th>categ__p</th>\n",
              "      <td>0.323346</td>\n",
              "      <td>-0.249460</td>\n",
              "      <td>0.065947</td>\n",
              "      <td>-0.177670</td>\n",
              "      <td>0.170190</td>\n",
              "      <td>-0.052059</td>\n",
              "      <td>-0.095178</td>\n",
              "      <td>-0.008985</td>\n",
              "      <td>0.021891</td>\n",
              "      <td>0.090538</td>\n",
              "      <td>-0.025458</td>\n",
              "      <td>-0.029042</td>\n",
              "      <td>-0.086727</td>\n",
              "      <td>-0.008985</td>\n",
              "      <td>-0.039574</td>\n",
              "      <td>0.117915</td>\n",
              "      <td>-0.058829</td>\n",
              "      <td>0.008698</td>\n",
              "      <td>0.070022</td>\n",
              "      <td>-0.029680</td>\n",
              "      <td>0.023909</td>\n",
              "      <td>-0.032928</td>\n",
              "      <td>-0.017984</td>\n",
              "      <td>-0.017984</td>\n",
              "      <td>-0.155118</td>\n",
              "      <td>0.118201</td>\n",
              "      <td>-0.013620</td>\n",
              "      <td>-0.062986</td>\n",
              "      <td>0.256188</td>\n",
              "      <td>-0.013620</td>\n",
              "      <td>-0.027009</td>\n",
              "      <td>-0.326140</td>\n",
              "      <td>-0.073025</td>\n",
              "      <td>0.152894</td>\n",
              "      <td>0.152894</td>\n",
              "      <td>0.287683</td>\n",
              "      <td>-0.044271</td>\n",
              "      <td>0.046528</td>\n",
              "      <td>0.050576</td>\n",
              "      <td>-0.093093</td>\n",
              "      <td>...</td>\n",
              "      <td>0.116359</td>\n",
              "      <td>-0.062986</td>\n",
              "      <td>0.141509</td>\n",
              "      <td>-0.142954</td>\n",
              "      <td>-0.022037</td>\n",
              "      <td>NaN</td>\n",
              "      <td>-0.044271</td>\n",
              "      <td>-0.044271</td>\n",
              "      <td>0.064317</td>\n",
              "      <td>-0.012710</td>\n",
              "      <td>-0.027009</td>\n",
              "      <td>0.065290</td>\n",
              "      <td>-0.060200</td>\n",
              "      <td>0.138105</td>\n",
              "      <td>-0.031211</td>\n",
              "      <td>0.241130</td>\n",
              "      <td>-0.027009</td>\n",
              "      <td>-0.299297</td>\n",
              "      <td>-0.031211</td>\n",
              "      <td>0.178579</td>\n",
              "      <td>-0.181191</td>\n",
              "      <td>-0.189255</td>\n",
              "      <td>-0.031211</td>\n",
              "      <td>-0.038282</td>\n",
              "      <td>-0.031211</td>\n",
              "      <td>0.217292</td>\n",
              "      <td>-0.031211</td>\n",
              "      <td>-0.090174</td>\n",
              "      <td>-0.084610</td>\n",
              "      <td>-0.092129</td>\n",
              "      <td>-0.125366</td>\n",
              "      <td>0.169228</td>\n",
              "      <td>0.040714</td>\n",
              "      <td>-0.322005</td>\n",
              "      <td>-0.242715</td>\n",
              "      <td>-0.136749</td>\n",
              "      <td>-0.078170</td>\n",
              "      <td>1.000000</td>\n",
              "      <td>-0.088184</td>\n",
              "      <td>-0.062986</td>\n",
              "    </tr>\n",
              "    <tr>\n",
              "      <th>categ__u</th>\n",
              "      <td>0.112078</td>\n",
              "      <td>0.143017</td>\n",
              "      <td>0.035483</td>\n",
              "      <td>-0.095595</td>\n",
              "      <td>0.141152</td>\n",
              "      <td>-0.077334</td>\n",
              "      <td>-0.052871</td>\n",
              "      <td>-0.004835</td>\n",
              "      <td>0.030636</td>\n",
              "      <td>-0.073380</td>\n",
              "      <td>0.288697</td>\n",
              "      <td>0.002845</td>\n",
              "      <td>-0.011913</td>\n",
              "      <td>-0.004835</td>\n",
              "      <td>0.117548</td>\n",
              "      <td>-0.100248</td>\n",
              "      <td>0.167996</td>\n",
              "      <td>-0.016074</td>\n",
              "      <td>-0.103655</td>\n",
              "      <td>0.017892</td>\n",
              "      <td>0.011244</td>\n",
              "      <td>-0.029261</td>\n",
              "      <td>-0.009676</td>\n",
              "      <td>-0.009676</td>\n",
              "      <td>0.114961</td>\n",
              "      <td>-0.084927</td>\n",
              "      <td>-0.049569</td>\n",
              "      <td>-0.033889</td>\n",
              "      <td>0.061839</td>\n",
              "      <td>-0.049569</td>\n",
              "      <td>-0.014532</td>\n",
              "      <td>-0.076202</td>\n",
              "      <td>0.394405</td>\n",
              "      <td>-0.060173</td>\n",
              "      <td>-0.060173</td>\n",
              "      <td>-0.113220</td>\n",
              "      <td>-0.023820</td>\n",
              "      <td>-0.020554</td>\n",
              "      <td>0.030682</td>\n",
              "      <td>0.101682</td>\n",
              "      <td>...</td>\n",
              "      <td>-0.056492</td>\n",
              "      <td>-0.033889</td>\n",
              "      <td>-0.119192</td>\n",
              "      <td>0.201190</td>\n",
              "      <td>-0.011857</td>\n",
              "      <td>NaN</td>\n",
              "      <td>-0.023820</td>\n",
              "      <td>-0.023820</td>\n",
              "      <td>0.034606</td>\n",
              "      <td>-0.006839</td>\n",
              "      <td>-0.014532</td>\n",
              "      <td>0.063482</td>\n",
              "      <td>-0.061511</td>\n",
              "      <td>-0.156935</td>\n",
              "      <td>-0.016793</td>\n",
              "      <td>-0.094899</td>\n",
              "      <td>-0.014532</td>\n",
              "      <td>0.222924</td>\n",
              "      <td>-0.016793</td>\n",
              "      <td>0.103522</td>\n",
              "      <td>0.038236</td>\n",
              "      <td>0.031574</td>\n",
              "      <td>-0.016793</td>\n",
              "      <td>-0.020598</td>\n",
              "      <td>-0.016793</td>\n",
              "      <td>-0.140546</td>\n",
              "      <td>-0.016793</td>\n",
              "      <td>-0.048518</td>\n",
              "      <td>-0.045524</td>\n",
              "      <td>-0.049569</td>\n",
              "      <td>0.130450</td>\n",
              "      <td>0.001180</td>\n",
              "      <td>-0.042888</td>\n",
              "      <td>-0.173254</td>\n",
              "      <td>-0.130592</td>\n",
              "      <td>-0.073577</td>\n",
              "      <td>-0.042059</td>\n",
              "      <td>-0.088184</td>\n",
              "      <td>1.000000</td>\n",
              "      <td>-0.033889</td>\n",
              "    </tr>\n",
              "    <tr>\n",
              "      <th>categ__w</th>\n",
              "      <td>-0.150087</td>\n",
              "      <td>0.184507</td>\n",
              "      <td>0.025344</td>\n",
              "      <td>-0.068279</td>\n",
              "      <td>-0.104090</td>\n",
              "      <td>-0.178111</td>\n",
              "      <td>-0.037764</td>\n",
              "      <td>-0.003453</td>\n",
              "      <td>-0.017450</td>\n",
              "      <td>0.119003</td>\n",
              "      <td>-0.009784</td>\n",
              "      <td>-0.036493</td>\n",
              "      <td>-0.098365</td>\n",
              "      <td>-0.003453</td>\n",
              "      <td>0.062109</td>\n",
              "      <td>0.031986</td>\n",
              "      <td>0.250709</td>\n",
              "      <td>-0.011481</td>\n",
              "      <td>0.026209</td>\n",
              "      <td>-0.084188</td>\n",
              "      <td>-0.010778</td>\n",
              "      <td>0.273873</td>\n",
              "      <td>-0.006911</td>\n",
              "      <td>-0.006911</td>\n",
              "      <td>-0.059612</td>\n",
              "      <td>-0.060660</td>\n",
              "      <td>-0.035405</td>\n",
              "      <td>-0.024206</td>\n",
              "      <td>-0.093630</td>\n",
              "      <td>-0.035405</td>\n",
              "      <td>-0.010380</td>\n",
              "      <td>0.177576</td>\n",
              "      <td>-0.028064</td>\n",
              "      <td>-0.042979</td>\n",
              "      <td>-0.042979</td>\n",
              "      <td>-0.080868</td>\n",
              "      <td>0.702866</td>\n",
              "      <td>-0.049691</td>\n",
              "      <td>-0.048959</td>\n",
              "      <td>-0.035776</td>\n",
              "      <td>...</td>\n",
              "      <td>-0.040350</td>\n",
              "      <td>-0.024206</td>\n",
              "      <td>-0.085134</td>\n",
              "      <td>-0.012372</td>\n",
              "      <td>-0.008469</td>\n",
              "      <td>NaN</td>\n",
              "      <td>-0.017013</td>\n",
              "      <td>-0.017013</td>\n",
              "      <td>0.024717</td>\n",
              "      <td>-0.004885</td>\n",
              "      <td>-0.010380</td>\n",
              "      <td>-0.533843</td>\n",
              "      <td>0.550945</td>\n",
              "      <td>0.215946</td>\n",
              "      <td>-0.011994</td>\n",
              "      <td>-0.067782</td>\n",
              "      <td>-0.010380</td>\n",
              "      <td>-0.152022</td>\n",
              "      <td>-0.011994</td>\n",
              "      <td>-0.078006</td>\n",
              "      <td>-0.085134</td>\n",
              "      <td>-0.087968</td>\n",
              "      <td>-0.011994</td>\n",
              "      <td>-0.014712</td>\n",
              "      <td>-0.011994</td>\n",
              "      <td>0.241127</td>\n",
              "      <td>-0.011994</td>\n",
              "      <td>-0.034654</td>\n",
              "      <td>0.744425</td>\n",
              "      <td>-0.035405</td>\n",
              "      <td>-0.066282</td>\n",
              "      <td>-0.154742</td>\n",
              "      <td>-0.080392</td>\n",
              "      <td>-0.123748</td>\n",
              "      <td>-0.093276</td>\n",
              "      <td>-0.052553</td>\n",
              "      <td>-0.030041</td>\n",
              "      <td>-0.062986</td>\n",
              "      <td>-0.033889</td>\n",
              "      <td>1.000000</td>\n",
              "    </tr>\n",
              "  </tbody>\n",
              "</table>\n",
              "<p>113 rows × 113 columns</p>\n",
              "</div>"
            ],
            "text/plain": [
              "                      poisonous  bruises_bi_t  ...  categ__u  categ__w\n",
              "poisonous              1.000000     -0.501530  ...  0.112078 -0.150087\n",
              "bruises_bi_t          -0.501530      1.000000  ...  0.143017  0.184507\n",
              "gill-attachment_bi_f   0.129200      0.137359  ...  0.035483  0.025344\n",
              "gill-spacing_bi_w     -0.348387     -0.299473  ... -0.095595 -0.068279\n",
              "gill-size_bi_n         0.540024     -0.369596  ...  0.141152 -0.104090\n",
              "...                         ...           ...  ...       ...       ...\n",
              "categ__l               0.155150     -0.278238  ... -0.073577 -0.052553\n",
              "categ__m              -0.138627      0.228986  ... -0.042059 -0.030041\n",
              "categ__p               0.323346     -0.249460  ... -0.088184 -0.062986\n",
              "categ__u               0.112078      0.143017  ...  1.000000 -0.033889\n",
              "categ__w              -0.150087      0.184507  ... -0.033889  1.000000\n",
              "\n",
              "[113 rows x 113 columns]"
            ]
          },
          "metadata": {
            "tags": []
          },
          "execution_count": 26
        }
      ]
    },
    {
      "cell_type": "code",
      "metadata": {
        "colab": {
          "base_uri": "https://localhost:8080/"
        },
        "id": "jzqz2LE452Qk",
        "outputId": "3e93f38a-0473-4c70-b98e-e67bc9f10dcb"
      },
      "source": [
        "poisonous_corr = corr_matrix['poisonous']\n",
        "poisonous_corr = poisonous_corr.sort_values(kind='quicksort', ascending=False)\n",
        "poisonous_corr"
      ],
      "execution_count": 110,
      "outputs": [
        {
          "output_type": "execute_result",
          "data": {
            "text/plain": [
              "poisonous         1.000000\n",
              "categ__f          0.623842\n",
              "categ__k          0.587658\n",
              "categ__k          0.573524\n",
              "gill-size_bi_n    0.540024\n",
              "                    ...   \n",
              "categ__s         -0.491314\n",
              "bruises_bi_t     -0.501530\n",
              "categ__p         -0.540469\n",
              "categ__n         -0.785557\n",
              "categ__p               NaN\n",
              "Name: poisonous, Length: 113, dtype: float64"
            ]
          },
          "metadata": {
            "tags": []
          },
          "execution_count": 110
        }
      ]
    },
    {
      "cell_type": "markdown",
      "metadata": {
        "id": "y0AMMXiTypQn"
      },
      "source": [
        "# Bagging & Boosting Model"
      ]
    },
    {
      "cell_type": "code",
      "metadata": {
        "colab": {
          "base_uri": "https://localhost:8080/"
        },
        "id": "ihHyIv1uyyIV",
        "outputId": "4eccd916-4575-427e-ad10-96765c540876"
      },
      "source": [
        "x = df_model.drop(['poisonous'], axis=1)\n",
        "y = df_model['poisonous']\n",
        "print(x.shape)\n",
        "print(y.shape)"
      ],
      "execution_count": 29,
      "outputs": [
        {
          "output_type": "stream",
          "text": [
            "(8124, 112)\n",
            "(8124,)\n"
          ],
          "name": "stdout"
        }
      ]
    },
    {
      "cell_type": "code",
      "metadata": {
        "colab": {
          "base_uri": "https://localhost:8080/"
        },
        "id": "K2hGg-aI6K28",
        "outputId": "b05a4065-27a7-42f1-88e3-89a361401a53"
      },
      "source": [
        "x_train, x_test, y_train, y_test = train_test_split(x, y, test_size=0.4, random_state=99)\n",
        "print(x_train.shape)\n",
        "print(x_test.shape)\n",
        "print(y_train.shape)\n",
        "print(y_test.shape)"
      ],
      "execution_count": 30,
      "outputs": [
        {
          "output_type": "stream",
          "text": [
            "(4874, 112)\n",
            "(3250, 112)\n",
            "(4874,)\n",
            "(3250,)\n"
          ],
          "name": "stdout"
        }
      ]
    },
    {
      "cell_type": "markdown",
      "metadata": {
        "id": "S5eoMk32gjJQ"
      },
      "source": [
        "<H3>KNeighbors Classifier<H3>"
      ]
    },
    {
      "cell_type": "code",
      "metadata": {
        "colab": {
          "base_uri": "https://localhost:8080/"
        },
        "id": "Yf577dwl-E3a",
        "outputId": "ad5f165b-3e1d-47be-f767-2467c9ec2f50"
      },
      "source": [
        "#KNeighborsClassifier\n",
        "knn_class = KNeighborsClassifier().fit(x_train, y_train)\n",
        "knn_pred = knn_class.predict(x_test)\n",
        "knn_recall_score = recall_score(knn_pred, y_test)\n",
        "knn_roc_auc_score = roc_auc_score(knn_pred, y_test)\n",
        "knn_classification_report = classification_report(knn_pred, y_test)\n",
        "print(\"knn_recall_score :\",knn_recall_score)\n",
        "print(\"knn_roc_score :\",knn_roc_auc_score)\n",
        "print(knn_classification_report)"
      ],
      "execution_count": 41,
      "outputs": [
        {
          "output_type": "stream",
          "text": [
            "knn_recall_score : 1.0\n",
            "knn_roc_score : 1.0\n",
            "              precision    recall  f1-score   support\n",
            "\n",
            "           0       1.00      1.00      1.00      1680\n",
            "           1       1.00      1.00      1.00      1570\n",
            "\n",
            "    accuracy                           1.00      3250\n",
            "   macro avg       1.00      1.00      1.00      3250\n",
            "weighted avg       1.00      1.00      1.00      3250\n",
            "\n"
          ],
          "name": "stdout"
        }
      ]
    },
    {
      "cell_type": "markdown",
      "metadata": {
        "id": "3yyiz-N8gq0S"
      },
      "source": [
        "<H3>Bagging Classifier<H3>"
      ]
    },
    {
      "cell_type": "code",
      "metadata": {
        "colab": {
          "base_uri": "https://localhost:8080/"
        },
        "id": "4YqVZJ7n3ET9",
        "outputId": "76587de2-353b-462c-8cc6-025dc73f3518"
      },
      "source": [
        "#BaggingClassifier\n",
        "bagg_class = BaggingClassifier(base_estimator=KNeighborsClassifier(), n_estimators=50).fit(x_train, y_train)\n",
        "bagg_pred = bagg_class.predict(x_test)\n",
        "bagg_recall_score = recall_score(bagg_pred, y_test)\n",
        "bagg_roc_auc_score = roc_auc_score(bagg_pred, y_test)\n",
        "bagg_classification_report = classification_report(bagg_pred, y_test)\n",
        "print(\"knn_recall_score :\",bagg_recall_score)\n",
        "print(\"knn_roc_score :\",bagg_roc_auc_score)\n",
        "print(bagg_classification_report)"
      ],
      "execution_count": 42,
      "outputs": [
        {
          "output_type": "stream",
          "text": [
            "knn_recall_score : 1.0\n",
            "knn_roc_score : 1.0\n",
            "              precision    recall  f1-score   support\n",
            "\n",
            "           0       1.00      1.00      1.00      1680\n",
            "           1       1.00      1.00      1.00      1570\n",
            "\n",
            "    accuracy                           1.00      3250\n",
            "   macro avg       1.00      1.00      1.00      3250\n",
            "weighted avg       1.00      1.00      1.00      3250\n",
            "\n"
          ],
          "name": "stdout"
        }
      ]
    },
    {
      "cell_type": "markdown",
      "metadata": {
        "id": "HAtg1N1RRnrL"
      },
      "source": [
        "<H3>Gradient Boosting Classifier<H3>"
      ]
    },
    {
      "cell_type": "code",
      "metadata": {
        "colab": {
          "base_uri": "https://localhost:8080/"
        },
        "id": "Bsv1yBdUuB26",
        "outputId": "ce409365-45a8-4717-fdac-8896689177a6"
      },
      "source": [
        "#Gradient Boosting Classifier\n",
        "boost = GradientBoostingClassifier(n_estimators=1).fit(x_train, y_train)\n",
        "boost_pred = boost.predict(x_test)\n",
        "#Sensibilidad Recall, verdaderos positivos\n",
        "boost_recall_score = recall_score(boost_pred, y_test)\n",
        "#Tasa Falsos Positivos\n",
        "boost_roc_auc_score = roc_auc_score(boost_pred, y_test)\n",
        "boost_classification_report = classification_report(boost_pred, y_test)\n",
        "print(\"knn_recall_score :\",boost_recall_score)\n",
        "print(\"knn_roc_score :\",boost_roc_auc_score)\n",
        "print(boost_classification_report)"
      ],
      "execution_count": 60,
      "outputs": [
        {
          "output_type": "stream",
          "text": [
            "knn_recall_score : 0.9792713567839196\n",
            "knn_roc_score : 0.9863184286935279\n",
            "              precision    recall  f1-score   support\n",
            "\n",
            "           0       0.98      0.99      0.99      1658\n",
            "           1       0.99      0.98      0.99      1592\n",
            "\n",
            "    accuracy                           0.99      3250\n",
            "   macro avg       0.99      0.99      0.99      3250\n",
            "weighted avg       0.99      0.99      0.99      3250\n",
            "\n"
          ],
          "name": "stdout"
        }
      ]
    },
    {
      "cell_type": "markdown",
      "metadata": {
        "id": "FpN1yiRBK78B"
      },
      "source": [
        "<H4>Confusion Matrix<H4>"
      ]
    },
    {
      "cell_type": "code",
      "metadata": {
        "colab": {
          "base_uri": "https://localhost:8080/"
        },
        "id": "CTlFmkLQO1pp",
        "outputId": "76228cfa-2dd5-4932-cb6c-95a79c470a4f"
      },
      "source": [
        "#Confusion Matrix Gradient Boosting Classifier\n",
        "boost_cnf_matrix = confusion_matrix(y_true=y_test, y_pred=boost_pred)\n",
        "print(boost_cnf_matrix)"
      ],
      "execution_count": 57,
      "outputs": [
        {
          "output_type": "execute_result",
          "data": {
            "text/plain": [
              "array([[1647,   33],\n",
              "       [  11, 1559]])"
            ]
          },
          "metadata": {
            "tags": []
          },
          "execution_count": 57
        }
      ]
    },
    {
      "cell_type": "code",
      "metadata": {
        "colab": {
          "base_uri": "https://localhost:8080/",
          "height": 376
        },
        "id": "7DHvJgavQWJL",
        "outputId": "fa15619a-72c2-41a9-dbba-4b92b3ddd266"
      },
      "source": [
        "#Confusion Matrix Gradient Boosting Classifier\n",
        "boost_cnf_matrix = confusion_matrix(y_true=y_test, y_pred=boost_pred)\n",
        "print(boost_cnf_matrix)\n",
        "\n",
        "#Confusion Matrix - Graphic\n",
        "\n",
        "class_names = [0,1]\n",
        "fig, ax = plt.subplots()\n",
        "tick_marks = np.arange(len(class_names))\n",
        "plt.xticks(tick_marks, class_names)\n",
        "plt.yticks(tick_marks, class_names)\n",
        "\n",
        "sns.heatmap(pd.DataFrame(boost_cnf_matrix), annot=True, cmap= 'Blues_r', fmt= 'g')\n",
        "ax.xaxis.set_label_position('top')\n",
        "plt.tight_layout()\n",
        "plt.title('Confusion Matrix Gradient Boosting Classifier', y = 1.1)\n",
        "plt.ylabel('Y Test')\n",
        "plt.xlabel('Y Predicted')"
      ],
      "execution_count": 59,
      "outputs": [
        {
          "output_type": "stream",
          "text": [
            "[[1647   33]\n",
            " [  11 1559]]\n"
          ],
          "name": "stdout"
        },
        {
          "output_type": "execute_result",
          "data": {
            "text/plain": [
              "Text(0.5, 257.44, 'Y Predicted')"
            ]
          },
          "metadata": {
            "tags": []
          },
          "execution_count": 59
        },
        {
          "output_type": "display_data",
          "data": {
            "image/png": "[encoded data removed]",
            "text/plain": [
              "<Figure size 432x288 with 2 Axes>"
            ]
          },
          "metadata": {
            "tags": []
          }
        }
      ]
    },
    {
      "cell_type": "markdown",
      "metadata": {
        "id": "yfglGmCzLEdD"
      },
      "source": [
        "<H4>ROC Curve<H4>"
      ]
    },
    {
      "cell_type": "code",
      "metadata": {
        "colab": {
          "base_uri": "https://localhost:8080/",
          "height": 282
        },
        "id": "B3U9UJ2SpS-D",
        "outputId": "c6417359-d0ec-4eb4-e4e0-be02db559745"
      },
      "source": [
        "#False Positive rate\n",
        "#True Positive rate\n",
        "boost_fpr, boost_tpr, _ = roc_curve(y_test, boost_pred)\n",
        "plt.plot(boost_fpr, boost_tpr, marker='*', color='b')"
      ],
      "execution_count": 78,
      "outputs": [
        {
          "output_type": "execute_result",
          "data": {
            "text/plain": [
              "[<matplotlib.lines.Line2D at 0x7f01d1478490>]"
            ]
          },
          "metadata": {
            "tags": []
          },
          "execution_count": 78
        },
        {
          "output_type": "display_data",
          "data": {
            "image/png": "[encoded data removed]",
            "text/plain": [
              "<Figure size 432x288 with 1 Axes>"
            ]
          },
          "metadata": {
            "tags": []
          }
        }
      ]
    },
    {
      "cell_type": "code",
      "metadata": {
        "colab": {
          "base_uri": "https://localhost:8080/"
        },
        "id": "3mADUB4Nx-zU",
        "outputId": "2635a2b6-11b9-424c-872a-99116051ea68"
      },
      "source": [
        "print(len(boost.feature_importances_))\n",
        "print(len(x.columns))"
      ],
      "execution_count": 90,
      "outputs": [
        {
          "output_type": "stream",
          "text": [
            "112\n",
            "112\n"
          ],
          "name": "stdout"
        }
      ]
    },
    {
      "cell_type": "code",
      "metadata": {
        "colab": {
          "base_uri": "https://localhost:8080/",
          "height": 422
        },
        "id": "osKU8E6x04bB",
        "outputId": "b8eebc35-935f-41b8-8ef7-c7bd1ff8545e"
      },
      "source": [
        "features_array = np.array(x.columns)\n",
        "features_importances_array = boost.feature_importances_\n",
        "dict_feature_importances = { \"model_features\" : features_array,\n",
        "                             \"feature_weights\" :  features_importances_array}\n",
        "df_boost_features = pd.DataFrame(dict_feature_importances)\n",
        "df_boost_features = df_boost_features.sort_values('feature_weights', ascending=False)\n",
        "df_boost_features"
      ],
      "execution_count": 94,
      "outputs": [
        {
          "output_type": "execute_result",
          "data": {
            "text/html": [
              "<div>\n",
              "<style scoped>\n",
              "    .dataframe tbody tr th:only-of-type {\n",
              "        vertical-align: middle;\n",
              "    }\n",
              "\n",
              "    .dataframe tbody tr th {\n",
              "        vertical-align: top;\n",
              "    }\n",
              "\n",
              "    .dataframe thead th {\n",
              "        text-align: right;\n",
              "    }\n",
              "</style>\n",
              "<table border=\"1\" class=\"dataframe\">\n",
              "  <thead>\n",
              "    <tr style=\"text-align: right;\">\n",
              "      <th></th>\n",
              "      <th>model_features</th>\n",
              "      <th>feature_weights</th>\n",
              "    </tr>\n",
              "  </thead>\n",
              "  <tbody>\n",
              "    <tr>\n",
              "      <th>30</th>\n",
              "      <td>categ__n</td>\n",
              "      <td>0.650075</td>\n",
              "    </tr>\n",
              "    <tr>\n",
              "      <th>47</th>\n",
              "      <td>categ__c</td>\n",
              "      <td>0.192962</td>\n",
              "    </tr>\n",
              "    <tr>\n",
              "      <th>49</th>\n",
              "      <td>categ__r</td>\n",
              "      <td>0.086959</td>\n",
              "    </tr>\n",
              "    <tr>\n",
              "      <th>95</th>\n",
              "      <td>categ__r</td>\n",
              "      <td>0.039138</td>\n",
              "    </tr>\n",
              "    <tr>\n",
              "      <th>83</th>\n",
              "      <td>categ__o</td>\n",
              "      <td>0.017997</td>\n",
              "    </tr>\n",
              "    <tr>\n",
              "      <th>...</th>\n",
              "      <td>...</td>\n",
              "      <td>...</td>\n",
              "    </tr>\n",
              "    <tr>\n",
              "      <th>34</th>\n",
              "      <td>categ__b</td>\n",
              "      <td>0.000000</td>\n",
              "    </tr>\n",
              "    <tr>\n",
              "      <th>33</th>\n",
              "      <td>categ__y</td>\n",
              "      <td>0.000000</td>\n",
              "    </tr>\n",
              "    <tr>\n",
              "      <th>32</th>\n",
              "      <td>categ__s</td>\n",
              "      <td>0.000000</td>\n",
              "    </tr>\n",
              "    <tr>\n",
              "      <th>31</th>\n",
              "      <td>categ__p</td>\n",
              "      <td>0.000000</td>\n",
              "    </tr>\n",
              "    <tr>\n",
              "      <th>111</th>\n",
              "      <td>categ__w</td>\n",
              "      <td>0.000000</td>\n",
              "    </tr>\n",
              "  </tbody>\n",
              "</table>\n",
              "<p>112 rows × 2 columns</p>\n",
              "</div>"
            ],
            "text/plain": [
              "    model_features  feature_weights\n",
              "30        categ__n         0.650075\n",
              "47        categ__c         0.192962\n",
              "49        categ__r         0.086959\n",
              "95        categ__r         0.039138\n",
              "83        categ__o         0.017997\n",
              "..             ...              ...\n",
              "34        categ__b         0.000000\n",
              "33        categ__y         0.000000\n",
              "32        categ__s         0.000000\n",
              "31        categ__p         0.000000\n",
              "111       categ__w         0.000000\n",
              "\n",
              "[112 rows x 2 columns]"
            ]
          },
          "metadata": {
            "tags": []
          },
          "execution_count": 94
        }
      ]
    },
    {
      "cell_type": "markdown",
      "metadata": {
        "id": "29NnGDlcRvr8"
      },
      "source": [
        "<H3>Gradient Boosting Classifier - Parameters Optimization<H3>"
      ]
    },
    {
      "cell_type": "code",
      "metadata": {
        "colab": {
          "base_uri": "https://localhost:8080/",
          "height": 331
        },
        "id": "wBJR7qP74DDW",
        "outputId": "34d0b964-f736-4b9c-ed5a-ce1da5508f7a"
      },
      "source": [
        "#Boosting Model's parameters optimization\n",
        "estimators = range(10, 150, 10)\n",
        "total_accuracy = []\n",
        "for i in estimators:\n",
        "    boost = GradientBoostingClassifier(n_estimators=i).fit(x_train, y_train)\n",
        "    boost_pred = boost.predict(x_test)\n",
        "\n",
        "    total_accuracy.append(accuracy_score(y_test, boost_pred))\n",
        "    \n",
        "plt.plot(estimators, total_accuracy, color='b')\n",
        "plt.xlabel('Estimators')\n",
        "plt.ylabel('Accuracy')\n",
        "plt.figure(figsize=(20,20))\n",
        "plt.show()\n",
        "\n",
        "print(np.array(total_accuracy).min())\n",
        "print(np.array(total_accuracy).max())"
      ],
      "execution_count": 53,
      "outputs": [
        {
          "output_type": "display_data",
          "data": {
            "image/png": "[encoded data removed]",
            "text/plain": [
              "<Figure size 432x288 with 1 Axes>"
            ]
          },
          "metadata": {
            "tags": []
          }
        },
        {
          "output_type": "display_data",
          "data": {
            "text/plain": [
              "<Figure size 1440x1440 with 0 Axes>"
            ]
          },
          "metadata": {
            "tags": []
          }
        },
        {
          "output_type": "stream",
          "text": [
            "0.9966153846153846\n",
            "1.0\n"
          ],
          "name": "stdout"
        }
      ]
    },
    {
      "cell_type": "code",
      "metadata": {
        "colab": {
          "base_uri": "https://localhost:8080/"
        },
        "id": "LzIYgBboDVYc",
        "outputId": "01ab33fc-ecf8-43d0-d7a8-386751cbedc5"
      },
      "source": [
        "#Gradient Boosting Classifier with optimised parameters\n",
        "boost_opt = GradientBoostingClassifier(n_estimators=75).fit(x_train, y_train)\n",
        "boost_opt_pred = boost_opt.predict(x_test)\n",
        "boost_opt_recall_score = recall_score(boost_opt_pred, y_test)\n",
        "boost_opt_roc_auc_score = roc_auc_score(boost_opt_pred, y_test)\n",
        "boost_opt_classification_report = classification_report(boost_opt_pred, y_test)\n",
        "print(\"knn_recall_score :\",boost_opt_recall_score)\n",
        "print(\"knn_roc_score :\",boost_opt_roc_auc_score)\n",
        "print(boost_opt_classification_report)"
      ],
      "execution_count": 54,
      "outputs": [
        {
          "output_type": "stream",
          "text": [
            "knn_recall_score : 1.0\n",
            "knn_roc_score : 1.0\n",
            "              precision    recall  f1-score   support\n",
            "\n",
            "           0       1.00      1.00      1.00      1680\n",
            "           1       1.00      1.00      1.00      1570\n",
            "\n",
            "    accuracy                           1.00      3250\n",
            "   macro avg       1.00      1.00      1.00      3250\n",
            "weighted avg       1.00      1.00      1.00      3250\n",
            "\n"
          ],
          "name": "stdout"
        }
      ]
    },
    {
      "cell_type": "markdown",
      "metadata": {
        "id": "WG1IY8rjIQDv"
      },
      "source": [
        "<H4>Boosting Classifier Model obtains 100% accuracy using 75 estimators, features are strongly related <H3>"
      ]
    },
    {
      "cell_type": "markdown",
      "metadata": {
        "id": "i3mBN7GOG-w9"
      },
      "source": [
        "<H4><H4>"
      ]
    }
  ]
}